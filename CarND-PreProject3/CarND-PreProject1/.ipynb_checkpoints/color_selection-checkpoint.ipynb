{
 "cells": [
  {
   "cell_type": "code",
   "execution_count": null,
   "metadata": {
    "collapsed": true
   },
   "outputs": [],
   "source": [
    "import numpy as np"
   ]
  },
  {
   "cell_type": "code",
   "execution_count": null,
   "metadata": {},
   "outputs": [],
   "source": [
    "class ColorSelectFilter:\n",
    "    def __init__(self, rgb_threshold):\n",
    "        # Constructor\n",
    "        self.data = []\n",
    "        self.red_threshold = rgb_threshold[0]\n",
    "        self.green_threshold = rgb_threshold[1]\n",
    "        self.blue_threshold = rgb_threshold[2]\n",
    "\n",
    "        \n",
    "    def filter(input_image):\n",
    "        filtered_image = np.copy(input_image)\n",
    "        # Do a boolean or with the \"|\" character to identify\n",
    "        # pixels below the thresholds\n",
    "        threshold_matrix = (image[:,:,0] < red_threshold) \\\n",
    "                    | (image[:,:,1] < green_threshold) \\\n",
    "                    | (image[:,:,2] < blue_threshold)\n",
    "        filtered_image[threshold_matrix] = [0,0,0]\n",
    "        \n",
    "        return filtered_image\n",
    "        \n",
    "        "
   ]
  },
  {
   "cell_type": "code",
   "execution_count": null,
   "metadata": {
    "collapsed": true
   },
   "outputs": [],
   "source": [
    "def printName4():\n",
    "    print (\"My_name\")\n",
    "    "
   ]
  }
 ],
 "metadata": {
  "kernelspec": {
   "display_name": "Python 3",
   "language": "python",
   "name": "python3"
  },
  "language_info": {
   "codemirror_mode": {
    "name": "ipython",
    "version": 3
   },
   "file_extension": ".py",
   "mimetype": "text/x-python",
   "name": "python",
   "nbconvert_exporter": "python",
   "pygments_lexer": "ipython3",
   "version": "3.6.0a4"
  }
 },
 "nbformat": 4,
 "nbformat_minor": 2
}
