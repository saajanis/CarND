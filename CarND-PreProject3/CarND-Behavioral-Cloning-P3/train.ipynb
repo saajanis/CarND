{
 "cells": [
  {
   "cell_type": "code",
   "execution_count": 1,
   "metadata": {},
   "outputs": [
    {
     "name": "stdout",
     "output_type": "stream",
     "text": [
      "Data creation/loading completed...\n"
     ]
    }
   ],
   "source": [
    "import csv\n",
    "import cv2\n",
    "import numpy as np\n",
    "from sklearn.model_selection import train_test_split\n",
    "from tqdm import tqdm\n",
    "import pickle\n",
    "\n",
    "#################\n",
    "class MacOSFile(object):\n",
    "\n",
    "    def __init__(self, f):\n",
    "        self.f = f\n",
    "\n",
    "    def __getattr__(self, item):\n",
    "        return getattr(self.f, item)\n",
    "\n",
    "    def read(self, n):\n",
    "        # print(\"reading total_bytes=%s\" % n, flush=True)\n",
    "        if n >= (1 << 31):\n",
    "            buffer = bytearray(n)\n",
    "            idx = 0\n",
    "            while idx < n:\n",
    "                batch_size = min(n - idx, 1 << 31 - 1)\n",
    "                # print(\"reading bytes [%s,%s)...\" % (idx, idx + batch_size), end=\"\", flush=True)\n",
    "                buffer[idx:idx + batch_size] = self.f.read(batch_size)\n",
    "                # print(\"done.\", flush=True)\n",
    "                idx += batch_size\n",
    "            return buffer\n",
    "        return self.f.read(n)\n",
    "\n",
    "    def write(self, buffer):\n",
    "        n = len(buffer)\n",
    "        print(\"writing total_bytes=%s...\" % n, flush=True)\n",
    "        idx = 0\n",
    "        while idx < n:\n",
    "            batch_size = min(n - idx, 1 << 31 - 1)\n",
    "            print(\"writing bytes [%s, %s)... \" % (idx, idx + batch_size), end=\"\", flush=True)\n",
    "            self.f.write(buffer[idx:idx + batch_size])\n",
    "            print(\"done.\", flush=True)\n",
    "            idx += batch_size\n",
    "\n",
    "\n",
    "def pickle_dump(obj, file_path):\n",
    "    with open(file_path, \"wb\") as f:\n",
    "        return pickle.dump(obj, MacOSFile(f), protocol=pickle.HIGHEST_PROTOCOL)\n",
    "\n",
    "\n",
    "def pickle_load(file_path):\n",
    "    with open(file_path, \"rb\") as f:\n",
    "        return pickle.load(MacOSFile(f))\n",
    "#################\n",
    "\n",
    "# IMG_DIR = './data/training/IMG/'\n",
    "#  \n",
    "# lines = []\n",
    "# data = {'front_images': [], 'left_images': [], 'right_images': [], \n",
    "#         'steering_angles_front': [], 'steering_angles_left': [], 'steering_angles_right': []}\n",
    "#  \n",
    "# with open('./data/training/driving_log.csv') as csvFile:\n",
    "#     reader = csv.reader(csvFile)\n",
    "#     for line in reader:\n",
    "#         lines.append(line)   \n",
    "#  \n",
    "# lines_pbar = tqdm(lines, unit='lines')\n",
    "# for line in lines_pbar:\n",
    "#     front_filename = line[0].split('/')[-1]\n",
    "#     left_filename = line[1].split('/')[-1]\n",
    "#     right_filename = line[2].split('/')[-1]\n",
    "#     \n",
    "#     #TODO: Tune this parameter\n",
    "#     steering_correction = 0.2\n",
    "#      \n",
    "#     #TODO: Create mask for the road (bottom 50%?) \n",
    "#     # With augmentation (flipped and steering_angle reversed)\n",
    "#     front_image = cv2.imread(IMG_DIR + front_filename)\n",
    "#     steering_angle = np.float(line[3])\n",
    "#     data['front_images'].append(front_image)\n",
    "#     data['front_images'].append(cv2.flip(front_image, 1))\n",
    "#     data['steering_angles_front'].append(steering_angle)\n",
    "#     data['steering_angles_front'].append(-1.0 * steering_angle)\n",
    "#     \n",
    "#     left_image = cv2.imread(IMG_DIR + left_filename)\n",
    "#     steering_angle_left = np.float(line[3]) + steering_correction\n",
    "#     data['left_images'].append(left_image)\n",
    "#     data['left_images'].append(cv2.flip(left_image, 1))\n",
    "#     data['steering_angles_left'].append(steering_angle_left)\n",
    "#     data['steering_angles_left'].append(-1.0 * steering_angle_left)\n",
    "#     \n",
    "#     right_image = cv2.imread(IMG_DIR + right_filename)\n",
    "#     steering_angle_right = np.float(line[3]) - steering_correction\n",
    "#     data['right_images'].append(right_image)\n",
    "#     data['right_images'].append(cv2.flip(right_image, 1))\n",
    "#     data['steering_angles_right'].append(steering_angle_right)\n",
    "#     data['steering_angles_right'].append(-1.0 * steering_angle_right)\n",
    "#     \n",
    "#  \n",
    "# pickle_dump(data, \"data.p\")\n",
    "data = pickle_load(\"data.p\")\n",
    "\n",
    "print('Data creation/loading completed...')\n",
    "\n",
    "# TODO: Can't think of a way why testing data can be beneficial (cheating by testing in simulator anyways)\n",
    "# X_train, X_test, y_train, y_test = train_test_split(\n",
    "#     data['front_images'] + data['left_images'] + data['right_images'], \n",
    "#     data['steering_angles_front'] + data['steering_angles_left'] + data['steering_angles_right'], \n",
    "#     test_size=0.33, random_state = 42)\n",
    "  \n",
    "X_train = data['front_images'] + data['left_images'] + data['right_images']\n",
    "y_train = data['steering_angles_front'] + data['steering_angles_left'] + data['steering_angles_right']\n",
    "    "
   ]
  },
  {
   "cell_type": "code",
   "execution_count": 2,
   "metadata": {
    "scrolled": true
   },
   "outputs": [
    {
     "name": "stderr",
     "output_type": "stream",
     "text": [
      "Using TensorFlow backend.\n",
      "/home/carnd/anaconda3/envs/carnd-term1/lib/python3.5/site-packages/ipykernel_launcher.py:11: UserWarning: Update your `Conv2D` call to the Keras 2 API: `Conv2D(6, (5, 5), activation=\"relu\")`\n",
      "  # This is added back by InteractiveShellApp.init_path()\n",
      "/home/carnd/anaconda3/envs/carnd-term1/lib/python3.5/site-packages/ipykernel_launcher.py:13: UserWarning: Update your `Conv2D` call to the Keras 2 API: `Conv2D(6, (5, 5), activation=\"relu\")`\n",
      "  del sys.path[0]\n",
      "/home/carnd/anaconda3/envs/carnd-term1/lib/python3.5/site-packages/keras/models.py:844: UserWarning: The `nb_epoch` argument in `fit` has been renamed `epochs`.\n",
      "  warnings.warn('The `nb_epoch` argument in `fit` '\n"
     ]
    },
    {
     "name": "stdout",
     "output_type": "stream",
     "text": [
      "Train on 32697 samples, validate on 8175 samples\n",
      "Epoch 1/2\n",
      "32697/32697 [==============================] - 190s - loss: 0.0615 - val_loss: 0.0052\n",
      "Epoch 2/2\n",
      "32697/32697 [==============================] - 133s - loss: 0.0029 - val_loss: 0.0038\n"
     ]
    }
   ],
   "source": [
    "# Model\n",
    "# TODO: Try models other than LeNet\n",
    "from keras.models import Sequential\n",
    "from keras.layers import Flatten, Dense, Lambda\n",
    "from keras.layers import Convolution2D\n",
    "from keras.layers.pooling import MaxPooling2D\n",
    "\n",
    "model = Sequential()\n",
    "# Normalized data with zero mean\n",
    "model.add(Lambda(lambda x:x/255.0 - 0.5, input_shape=(160, 320, 3)))\n",
    "model.add(Convolution2D(6,5,5,activation='relu'))\n",
    "model.add(MaxPooling2D())\n",
    "model.add(Convolution2D(6,5,5,activation='relu'))\n",
    "model.add(MaxPooling2D())\n",
    "model.add(Flatten())\n",
    "model.add(Dense(120))\n",
    "model.add(Dense(84))\n",
    "model.add(Dense(1))\n",
    "\n",
    "# TODO: Use all 3 images\n",
    "model.compile(optimizer='adam', loss='mse')\n",
    "model.fit(np.array(X_train), np.array(y_train), validation_split=0.2, shuffle=True, nb_epoch=3)\n",
    "\n",
    "model.save('model.h5')"
   ]
  },
  {
   "cell_type": "code",
   "execution_count": null,
   "metadata": {
    "collapsed": true
   },
   "outputs": [],
   "source": []
  }
 ],
 "metadata": {
  "kernelspec": {
   "display_name": "Python 3",
   "language": "python",
   "name": "python3"
  },
  "language_info": {
   "codemirror_mode": {
    "name": "ipython",
    "version": 3
   },
   "file_extension": ".py",
   "mimetype": "text/x-python",
   "name": "python",
   "nbconvert_exporter": "python",
   "pygments_lexer": "ipython3",
   "version": "3.5.2"
  },
  "widgets": {
   "state": {},
   "version": "1.1.2"
  }
 },
 "nbformat": 4,
 "nbformat_minor": 2
}
