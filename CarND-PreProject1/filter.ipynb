{
 "cells": [
  {
   "cell_type": "code",
   "execution_count": 1,
   "metadata": {
    "collapsed": true
   },
   "outputs": [],
   "source": [
    "import numpy as np"
   ]
  },
  {
   "cell_type": "code",
   "execution_count": 2,
   "metadata": {
    "collapsed": true
   },
   "outputs": [],
   "source": [
    "class ImageFilter:\n",
    "    def __init__(self, rgb_threshold):\n",
    "        # Constructor\n",
    "        self.transformed_rgb_pixel = [0,0,0] # Default black pixel\n",
    "        \n",
    "    def getFilteredImage(self, input_image):\n",
    "        transform_matrix = self.transform(input_image)\n",
    "        \n",
    "        print(transform_matrix)\n",
    "        \n",
    "        filtered_image = np.copy(input_image)\n",
    "        filtered_image[transform_matrix] = self.transformed_rgb_pixel\n",
    "        \n",
    "        return filtered_image\n",
    "    \n",
    "    def getMask(self, input_image):\n",
    "        transform_matrix = self.transform(input_image)\n",
    "        \n",
    "        return transform_matrix\n",
    "    \n",
    "    def transform(input_image):\n",
    "        pass # Do nothing\n",
    "        "
   ]
  },
  {
   "cell_type": "code",
   "execution_count": 3,
   "metadata": {
    "collapsed": true
   },
   "outputs": [],
   "source": [
    "class ColorSelectFilter(ImageFilter):\n",
    "    def __init__(self, rgb_threshold):\n",
    "        # Constructor\n",
    "        self.transformed_rgb_pixel = [0,0,0] # Black pixel\n",
    "        self.red_threshold = rgb_threshold[0]\n",
    "        self.green_threshold = rgb_threshold[1]\n",
    "        self.blue_threshold = rgb_threshold[2]\n",
    "    \n",
    "    def transform(self, input_image):\n",
    "        # Do a boolean or with the \"|\" character to identify\n",
    "        # pixels below the thresholds\n",
    "        transform_matrix = (input_image[:,:,0] < self.red_threshold) \\\n",
    "                         | (input_image[:,:,1] < self.green_threshold) \\\n",
    "                         | (input_image[:,:,2] < self.blue_threshold)\n",
    "        return transform_matrix"
   ]
  },
  {
   "cell_type": "code",
   "execution_count": 4,
   "metadata": {
    "collapsed": true
   },
   "outputs": [],
   "source": [
    "class RegionFilter(ImageFilter):\n",
    "    def __init__(self, polyPoints3):\n",
    "        # Constructor\n",
    "        self.transformed_rgb_pixel = [255,0,0] # Black pixel\n",
    "        \n",
    "        left_bottom = polyPoints3[0]\n",
    "        right_bottom = polyPoints3[1]\n",
    "        apex = polyPoints3[2]\n",
    "        # Perform a linear fit (y=Mx+C) to each of the three sides of the triangle\n",
    "        # np.polyfit returns the coefficients [M, C] of the fit\n",
    "        self.fit_left = np.polyfit((left_bottom[0], apex[0]), (left_bottom[1], apex[1]), 1)\n",
    "        self.fit_right = np.polyfit((right_bottom[0], apex[0]), (right_bottom[1], apex[1]), 1)\n",
    "        self.fit_bottom = np.polyfit((left_bottom[0], right_bottom[0]), (left_bottom[1], right_bottom[1]), 1)\n",
    "    \n",
    "    def transform(self, input_image):\n",
    "        # Grab the x and y size of the image\n",
    "        ysize = input_image.shape[0]\n",
    "        xsize = input_image.shape[1]\n",
    "        XX, YY = np.meshgrid(np.arange(0, xsize), np.arange(0, ysize))\n",
    "        # Find the region inside the lines\n",
    "        transform_matrix = (YY > (XX*self.fit_left[0] + self.fit_left[1])) & \\\n",
    "                           (YY > (XX*self.fit_right[0] + self.fit_right[1])) & \\\n",
    "                           (YY < (XX*self.fit_bottom[0] + self.fit_bottom[1]))\n",
    "        return transform_matrix"
   ]
  }
 ],
 "metadata": {
  "kernelspec": {
   "display_name": "Python 3",
   "language": "python",
   "name": "python3"
  },
  "language_info": {
   "codemirror_mode": {
    "name": "ipython",
    "version": 3
   },
   "file_extension": ".py",
   "mimetype": "text/x-python",
   "name": "python",
   "nbconvert_exporter": "python",
   "pygments_lexer": "ipython3",
   "version": "3.6.0a4"
  }
 },
 "nbformat": 4,
 "nbformat_minor": 2
}
