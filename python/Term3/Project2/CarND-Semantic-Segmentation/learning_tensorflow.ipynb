{
 "cells": [
  {
   "cell_type": "code",
   "execution_count": 18,
   "metadata": {},
   "outputs": [],
   "source": [
    "import re\n",
    "import random\n",
    "import numpy as np\n",
    "import os.path\n",
    "import scipy.misc\n",
    "import shutil\n",
    "import zipfile\n",
    "import time\n",
    "import tensorflow as tf\n",
    "from glob import glob\n",
    "from urllib.request import urlretrieve\n",
    "from tqdm import tqdm"
   ]
  },
  {
   "cell_type": "code",
   "execution_count": 16,
   "metadata": {},
   "outputs": [],
   "source": [
    "from __future__ import absolute_import, division, print_function\n",
    "\n",
    "import tensorflow as tf\n",
    "\n",
    "#tf.enable_eager_execution()"
   ]
  },
  {
   "cell_type": "code",
   "execution_count": 2,
   "metadata": {},
   "outputs": [
    {
     "data": {
      "text/plain": [
       "True"
      ]
     },
     "execution_count": 2,
     "metadata": {},
     "output_type": "execute_result"
    }
   ],
   "source": [
    "tf.executing_eagerly()"
   ]
  },
  {
   "cell_type": "code",
   "execution_count": 3,
   "metadata": {},
   "outputs": [
    {
     "name": "stdout",
     "output_type": "stream",
     "text": [
      "hello, [[4.]]\n"
     ]
    }
   ],
   "source": [
    "x = [[2.]]\n",
    "m = tf.matmul(x, x)\n",
    "print(\"hello, {}\".format(m))  # => \"hello, [[4.]]\""
   ]
  },
  {
   "cell_type": "code",
   "execution_count": 7,
   "metadata": {},
   "outputs": [
    {
     "name": "stdout",
     "output_type": "stream",
     "text": [
      "tf.Tensor(\n",
      "[[1 2]\n",
      " [3 4]], shape=(2, 2), dtype=int32)\n",
      "tf.Tensor(\n",
      "[[2 3]\n",
      " [4 5]], shape=(2, 2), dtype=int32)\n",
      "tf.Tensor(\n",
      "[[ 2  6]\n",
      " [12 20]], shape=(2, 2), dtype=int32)\n",
      "[[ 2  6]\n",
      " [12 20]]\n",
      "[[1 2]\n",
      " [3 4]]\n"
     ]
    }
   ],
   "source": [
    "a = tf.constant([[1, 2],\n",
    "                 [3, 4]])\n",
    "print(a)\n",
    "\n",
    "# Broadcasting support\n",
    "b = tf.add(a, 1)\n",
    "print(b)\n",
    "\n",
    "# Operator overloading is supported\n",
    "print(a * b)\n",
    "\n",
    "# Use NumPy values\n",
    "import numpy as np\n",
    "\n",
    "c = np.multiply(a, b)\n",
    "print(c)\n",
    "\n",
    "# Obtain numpy value from a tensor:\n",
    "print(a.numpy())"
   ]
  },
  {
   "cell_type": "code",
   "execution_count": 15,
   "metadata": {},
   "outputs": [
    {
     "ename": "RuntimeError",
     "evalue": "The Session graph is empty.  Add operations to the graph before calling run().",
     "output_type": "error",
     "traceback": [
      "\u001b[0;31m---------------------------------------------------------------------------\u001b[0m",
      "\u001b[0;31mRuntimeError\u001b[0m                              Traceback (most recent call last)",
      "\u001b[0;32m<ipython-input-15-d5f370291666>\u001b[0m in \u001b[0;36m<module>\u001b[0;34m()\u001b[0m\n\u001b[1;32m      7\u001b[0m   \u001b[0moptions\u001b[0m\u001b[0;34m.\u001b[0m\u001b[0mtrace_level\u001b[0m \u001b[0;34m=\u001b[0m \u001b[0mtf\u001b[0m\u001b[0;34m.\u001b[0m\u001b[0mRunOptions\u001b[0m\u001b[0;34m.\u001b[0m\u001b[0mFULL_TRACE\u001b[0m\u001b[0;34m\u001b[0m\u001b[0m\n\u001b[1;32m      8\u001b[0m \u001b[0;34m\u001b[0m\u001b[0m\n\u001b[0;32m----> 9\u001b[0;31m   \u001b[0msess\u001b[0m\u001b[0;34m.\u001b[0m\u001b[0mrun\u001b[0m\u001b[0;34m(\u001b[0m\u001b[0my\u001b[0m\u001b[0;34m)\u001b[0m\u001b[0;34m\u001b[0m\u001b[0m\n\u001b[0m\u001b[1;32m     10\u001b[0m \u001b[0;34m\u001b[0m\u001b[0m\n\u001b[1;32m     11\u001b[0m \u001b[0;31m#   # Define a yontainer for the returned metadata.\u001b[0m\u001b[0;34m\u001b[0m\u001b[0;34m\u001b[0m\u001b[0m\n",
      "\u001b[0;32m/anaconda3/lib/python3.6/site-packages/tensorflow/python/client/session.py\u001b[0m in \u001b[0;36mrun\u001b[0;34m(self, fetches, feed_dict, options, run_metadata)\u001b[0m\n\u001b[1;32m    903\u001b[0m     \u001b[0;32mtry\u001b[0m\u001b[0;34m:\u001b[0m\u001b[0;34m\u001b[0m\u001b[0m\n\u001b[1;32m    904\u001b[0m       result = self._run(None, fetches, feed_dict, options_ptr,\n\u001b[0;32m--> 905\u001b[0;31m                          run_metadata_ptr)\n\u001b[0m\u001b[1;32m    906\u001b[0m       \u001b[0;32mif\u001b[0m \u001b[0mrun_metadata\u001b[0m\u001b[0;34m:\u001b[0m\u001b[0;34m\u001b[0m\u001b[0m\n\u001b[1;32m    907\u001b[0m         \u001b[0mproto_data\u001b[0m \u001b[0;34m=\u001b[0m \u001b[0mtf_session\u001b[0m\u001b[0;34m.\u001b[0m\u001b[0mTF_GetBuffer\u001b[0m\u001b[0;34m(\u001b[0m\u001b[0mrun_metadata_ptr\u001b[0m\u001b[0;34m)\u001b[0m\u001b[0;34m\u001b[0m\u001b[0m\n",
      "\u001b[0;32m/anaconda3/lib/python3.6/site-packages/tensorflow/python/client/session.py\u001b[0m in \u001b[0;36m_run\u001b[0;34m(self, handle, fetches, feed_dict, options, run_metadata)\u001b[0m\n\u001b[1;32m   1063\u001b[0m       \u001b[0;32mraise\u001b[0m \u001b[0mRuntimeError\u001b[0m\u001b[0;34m(\u001b[0m\u001b[0;34m'Attempted to use a closed Session.'\u001b[0m\u001b[0;34m)\u001b[0m\u001b[0;34m\u001b[0m\u001b[0m\n\u001b[1;32m   1064\u001b[0m     \u001b[0;32mif\u001b[0m \u001b[0mself\u001b[0m\u001b[0;34m.\u001b[0m\u001b[0mgraph\u001b[0m\u001b[0;34m.\u001b[0m\u001b[0mversion\u001b[0m \u001b[0;34m==\u001b[0m \u001b[0;36m0\u001b[0m\u001b[0;34m:\u001b[0m\u001b[0;34m\u001b[0m\u001b[0m\n\u001b[0;32m-> 1065\u001b[0;31m       raise RuntimeError('The Session graph is empty.  Add operations to the '\n\u001b[0m\u001b[1;32m   1066\u001b[0m                          'graph before calling run().')\n\u001b[1;32m   1067\u001b[0m \u001b[0;34m\u001b[0m\u001b[0m\n",
      "\u001b[0;31mRuntimeError\u001b[0m: The Session graph is empty.  Add operations to the graph before calling run()."
     ]
    }
   ],
   "source": [
    "y = tf.matmul([[37.0, -23.0], [1.0, 4.0]], tf.random_uniform([2, 2]))\n",
    "\n",
    "with tf.Session() as sess:\n",
    "  # Define options for the `sess.run()` call.\n",
    "  options = tf.RunOptions()\n",
    "  options.output_partition_graphs = True\n",
    "  options.trace_level = tf.RunOptions.FULL_TRACE\n",
    "\n",
    "  sess.run(y)\n",
    "\n",
    "#   # Define a yontainer for the returned metadata.\n",
    "#   metadata = tf.RunMetadata()\n",
    "\n",
    "#   sess.run(y, options=options, run_metadata=metadata)\n",
    "\n",
    "#   # Print the subgraphs that executed on each device.\n",
    "#   print(metadata.partition_graphs)\n",
    "\n",
    "#   # Print the timings of each operation that executed.\n",
    "#   print(metadata.step_stats)\n"
   ]
  },
  {
   "cell_type": "code",
   "execution_count": 22,
   "metadata": {},
   "outputs": [
    {
     "name": "stdout",
     "output_type": "stream",
     "text": [
      "{'um_000087.png': './data/data_road/training/gt_image_2/um_road_000087.png', 'um_000093.png': './data/data_road/training/gt_image_2/um_road_000093.png', 'um_000044.png': './data/data_road/training/gt_image_2/um_road_000044.png', 'um_000050.png': './data/data_road/training/gt_image_2/um_road_000050.png', 'um_000078.png': './data/data_road/training/gt_image_2/um_road_000078.png', 'uu_000073.png': './data/data_road/training/gt_image_2/uu_road_000073.png', 'uu_000067.png': './data/data_road/training/gt_image_2/uu_road_000067.png', 'umm_000007.png': './data/data_road/training/gt_image_2/umm_road_000007.png', 'umm_000013.png': './data/data_road/training/gt_image_2/umm_road_000013.png', 'umm_000012.png': './data/data_road/training/gt_image_2/umm_road_000012.png', 'umm_000006.png': './data/data_road/training/gt_image_2/umm_road_000006.png', 'uu_000066.png': './data/data_road/training/gt_image_2/uu_road_000066.png', 'uu_000072.png': './data/data_road/training/gt_image_2/uu_road_000072.png', 'um_000079.png': './data/data_road/training/gt_image_2/um_road_000079.png', 'um_000051.png': './data/data_road/training/gt_image_2/um_road_000051.png', 'um_000045.png': './data/data_road/training/gt_image_2/um_road_000045.png', 'um_000092.png': './data/data_road/training/gt_image_2/um_road_000092.png', 'um_000086.png': './data/data_road/training/gt_image_2/um_road_000086.png', 'um_000090.png': './data/data_road/training/gt_image_2/um_road_000090.png', 'um_000084.png': './data/data_road/training/gt_image_2/um_road_000084.png', 'um_000053.png': './data/data_road/training/gt_image_2/um_road_000053.png', 'um_000047.png': './data/data_road/training/gt_image_2/um_road_000047.png', 'uu_000058.png': './data/data_road/training/gt_image_2/uu_road_000058.png', 'uu_000064.png': './data/data_road/training/gt_image_2/uu_road_000064.png', 'uu_000070.png': './data/data_road/training/gt_image_2/uu_road_000070.png', 'umm_000010.png': './data/data_road/training/gt_image_2/umm_road_000010.png', 'umm_000004.png': './data/data_road/training/gt_image_2/umm_road_000004.png', 'umm_000038.png': './data/data_road/training/gt_image_2/umm_road_000038.png', 'umm_000039.png': './data/data_road/training/gt_image_2/umm_road_000039.png', 'umm_000005.png': './data/data_road/training/gt_image_2/umm_road_000005.png', 'umm_000011.png': './data/data_road/training/gt_image_2/umm_road_000011.png', 'uu_000071.png': './data/data_road/training/gt_image_2/uu_road_000071.png', 'uu_000065.png': './data/data_road/training/gt_image_2/uu_road_000065.png', 'uu_000059.png': './data/data_road/training/gt_image_2/uu_road_000059.png', 'um_000046.png': './data/data_road/training/gt_image_2/um_road_000046.png', 'um_000052.png': './data/data_road/training/gt_image_2/um_road_000052.png', 'um_000085.png': './data/data_road/training/gt_image_2/um_road_000085.png', 'um_000091.png': './data/data_road/training/gt_image_2/um_road_000091.png', 'um_000081.png': './data/data_road/training/gt_image_2/um_road_000081.png', 'um_000056.png': './data/data_road/training/gt_image_2/um_road_000056.png', 'um_000042.png': './data/data_road/training/gt_image_2/um_road_000042.png', 'uu_000061.png': './data/data_road/training/gt_image_2/uu_road_000061.png', 'uu_000075.png': './data/data_road/training/gt_image_2/uu_road_000075.png', 'uu_000049.png': './data/data_road/training/gt_image_2/uu_road_000049.png', 'umm_000029.png': './data/data_road/training/gt_image_2/umm_road_000029.png', 'umm_000015.png': './data/data_road/training/gt_image_2/umm_road_000015.png', 'umm_000001.png': './data/data_road/training/gt_image_2/umm_road_000001.png', 'umm_000000.png': './data/data_road/training/gt_image_2/umm_road_000000.png', 'umm_000014.png': './data/data_road/training/gt_image_2/umm_road_000014.png', 'umm_000028.png': './data/data_road/training/gt_image_2/umm_road_000028.png', 'uu_000048.png': './data/data_road/training/gt_image_2/uu_road_000048.png', 'uu_000074.png': './data/data_road/training/gt_image_2/uu_road_000074.png', 'uu_000060.png': './data/data_road/training/gt_image_2/uu_road_000060.png', 'um_000043.png': './data/data_road/training/gt_image_2/um_road_000043.png', 'um_000057.png': './data/data_road/training/gt_image_2/um_road_000057.png', 'um_000080.png': './data/data_road/training/gt_image_2/um_road_000080.png', 'um_000094.png': './data/data_road/training/gt_image_2/um_road_000094.png', 'um_000082.png': './data/data_road/training/gt_image_2/um_road_000082.png', 'um_000069.png': './data/data_road/training/gt_image_2/um_road_000069.png', 'um_000041.png': './data/data_road/training/gt_image_2/um_road_000041.png', 'um_000055.png': './data/data_road/training/gt_image_2/um_road_000055.png', 'uu_000076.png': './data/data_road/training/gt_image_2/uu_road_000076.png', 'uu_000062.png': './data/data_road/training/gt_image_2/uu_road_000062.png', 'uu_000089.png': './data/data_road/training/gt_image_2/uu_road_000089.png', 'umm_000002.png': './data/data_road/training/gt_image_2/umm_road_000002.png', 'umm_000016.png': './data/data_road/training/gt_image_2/umm_road_000016.png', 'umm_000017.png': './data/data_road/training/gt_image_2/umm_road_000017.png', 'umm_000003.png': './data/data_road/training/gt_image_2/umm_road_000003.png', 'uu_000088.png': './data/data_road/training/gt_image_2/uu_road_000088.png', 'uu_000063.png': './data/data_road/training/gt_image_2/uu_road_000063.png', 'uu_000077.png': './data/data_road/training/gt_image_2/uu_road_000077.png', 'um_000054.png': './data/data_road/training/gt_image_2/um_road_000054.png', 'um_000040.png': './data/data_road/training/gt_image_2/um_road_000040.png', 'um_000068.png': './data/data_road/training/gt_image_2/um_road_000068.png', 'um_000083.png': './data/data_road/training/gt_image_2/um_road_000083.png', 'um_000027.png': './data/data_road/training/gt_image_2/um_road_000027.png', 'um_000033.png': './data/data_road/training/gt_image_2/um_road_000033.png', 'uu_000038.png': './data/data_road/training/gt_image_2/uu_road_000038.png', 'uu_000010.png': './data/data_road/training/gt_image_2/uu_road_000010.png', 'uu_000004.png': './data/data_road/training/gt_image_2/uu_road_000004.png', 'umm_000064.png': './data/data_road/training/gt_image_2/umm_road_000064.png', 'umm_000070.png': './data/data_road/training/gt_image_2/umm_road_000070.png', 'umm_000058.png': './data/data_road/training/gt_image_2/umm_road_000058.png', 'umm_000059.png': './data/data_road/training/gt_image_2/umm_road_000059.png', 'umm_000071.png': './data/data_road/training/gt_image_2/umm_road_000071.png', 'umm_000065.png': './data/data_road/training/gt_image_2/umm_road_000065.png', 'uu_000005.png': './data/data_road/training/gt_image_2/uu_road_000005.png', 'uu_000011.png': './data/data_road/training/gt_image_2/uu_road_000011.png', 'uu_000039.png': './data/data_road/training/gt_image_2/uu_road_000039.png', 'um_000032.png': './data/data_road/training/gt_image_2/um_road_000032.png', 'um_000026.png': './data/data_road/training/gt_image_2/um_road_000026.png', 'um_000030.png': './data/data_road/training/gt_image_2/um_road_000030.png', 'um_000024.png': './data/data_road/training/gt_image_2/um_road_000024.png', 'um_000018.png': './data/data_road/training/gt_image_2/um_road_000018.png', 'uu_000007.png': './data/data_road/training/gt_image_2/uu_road_000007.png', 'uu_000013.png': './data/data_road/training/gt_image_2/uu_road_000013.png', 'umm_000073.png': './data/data_road/training/gt_image_2/umm_road_000073.png', 'umm_000067.png': './data/data_road/training/gt_image_2/umm_road_000067.png', 'umm_000066.png': './data/data_road/training/gt_image_2/umm_road_000066.png', 'umm_000072.png': './data/data_road/training/gt_image_2/umm_road_000072.png', 'uu_000012.png': './data/data_road/training/gt_image_2/uu_road_000012.png', 'uu_000006.png': './data/data_road/training/gt_image_2/uu_road_000006.png', 'um_000019.png': './data/data_road/training/gt_image_2/um_road_000019.png', 'um_000025.png': './data/data_road/training/gt_image_2/um_road_000025.png', 'um_000031.png': './data/data_road/training/gt_image_2/um_road_000031.png', 'um_000009.png': './data/data_road/training/gt_image_2/um_road_000009.png', 'um_000035.png': './data/data_road/training/gt_image_2/um_road_000035.png', 'um_000021.png': './data/data_road/training/gt_image_2/um_road_000021.png', 'uu_000002.png': './data/data_road/training/gt_image_2/uu_road_000002.png', 'uu_000016.png': './data/data_road/training/gt_image_2/uu_road_000016.png', 'umm_000089.png': './data/data_road/training/gt_image_2/umm_road_000089.png', 'umm_000076.png': './data/data_road/training/gt_image_2/umm_road_000076.png', 'umm_000062.png': './data/data_road/training/gt_image_2/umm_road_000062.png', 'umm_000063.png': './data/data_road/training/gt_image_2/umm_road_000063.png', 'umm_000077.png': './data/data_road/training/gt_image_2/umm_road_000077.png', 'umm_000088.png': './data/data_road/training/gt_image_2/umm_road_000088.png', 'uu_000017.png': './data/data_road/training/gt_image_2/uu_road_000017.png', 'uu_000003.png': './data/data_road/training/gt_image_2/uu_road_000003.png', 'um_000020.png': './data/data_road/training/gt_image_2/um_road_000020.png', 'um_000034.png': './data/data_road/training/gt_image_2/um_road_000034.png', 'um_000008.png': './data/data_road/training/gt_image_2/um_road_000008.png', 'um_000022.png': './data/data_road/training/gt_image_2/um_road_000022.png', 'um_000036.png': './data/data_road/training/gt_image_2/um_road_000036.png', 'uu_000015.png': './data/data_road/training/gt_image_2/uu_road_000015.png', 'uu_000001.png': './data/data_road/training/gt_image_2/uu_road_000001.png', 'uu_000029.png': './data/data_road/training/gt_image_2/uu_road_000029.png', 'umm_000049.png': './data/data_road/training/gt_image_2/umm_road_000049.png', 'umm_000061.png': './data/data_road/training/gt_image_2/umm_road_000061.png', 'umm_000075.png': './data/data_road/training/gt_image_2/umm_road_000075.png', 'umm_000074.png': './data/data_road/training/gt_image_2/umm_road_000074.png', 'umm_000060.png': './data/data_road/training/gt_image_2/umm_road_000060.png', 'umm_000048.png': './data/data_road/training/gt_image_2/umm_road_000048.png', 'uu_000028.png': './data/data_road/training/gt_image_2/uu_road_000028.png', 'uu_000000.png': './data/data_road/training/gt_image_2/uu_road_000000.png', 'uu_000014.png': './data/data_road/training/gt_image_2/uu_road_000014.png', 'um_000037.png': './data/data_road/training/gt_image_2/um_road_000037.png', 'um_000023.png': './data/data_road/training/gt_image_2/um_road_000023.png', 'um_000006.png': './data/data_road/training/gt_image_2/um_road_000006.png', 'um_000012.png': './data/data_road/training/gt_image_2/um_road_000012.png', 'uu_000019.png': './data/data_road/training/gt_image_2/uu_road_000019.png', 'uu_000031.png': './data/data_road/training/gt_image_2/uu_road_000031.png', 'uu_000025.png': './data/data_road/training/gt_image_2/uu_road_000025.png', 'umm_000086.png': './data/data_road/training/gt_image_2/umm_road_000086.png', 'umm_000092.png': './data/data_road/training/gt_image_2/umm_road_000092.png', 'umm_000045.png': './data/data_road/training/gt_image_2/umm_road_000045.png', 'umm_000051.png': './data/data_road/training/gt_image_2/umm_road_000051.png', 'umm_000079.png': './data/data_road/training/gt_image_2/umm_road_000079.png', 'umm_000078.png': './data/data_road/training/gt_image_2/umm_road_000078.png', 'umm_000050.png': './data/data_road/training/gt_image_2/umm_road_000050.png', 'umm_000044.png': './data/data_road/training/gt_image_2/umm_road_000044.png', 'umm_000093.png': './data/data_road/training/gt_image_2/umm_road_000093.png', 'umm_000087.png': './data/data_road/training/gt_image_2/umm_road_000087.png', 'uu_000024.png': './data/data_road/training/gt_image_2/uu_road_000024.png', 'uu_000030.png': './data/data_road/training/gt_image_2/uu_road_000030.png', 'uu_000018.png': './data/data_road/training/gt_image_2/uu_road_000018.png', 'um_000013.png': './data/data_road/training/gt_image_2/um_road_000013.png', 'um_000007.png': './data/data_road/training/gt_image_2/um_road_000007.png', 'um_000011.png': './data/data_road/training/gt_image_2/um_road_000011.png', 'um_000005.png': './data/data_road/training/gt_image_2/um_road_000005.png', 'um_000039.png': './data/data_road/training/gt_image_2/um_road_000039.png', 'uu_000026.png': './data/data_road/training/gt_image_2/uu_road_000026.png', 'uu_000032.png': './data/data_road/training/gt_image_2/uu_road_000032.png', 'umm_000091.png': './data/data_road/training/gt_image_2/umm_road_000091.png', 'umm_000085.png': './data/data_road/training/gt_image_2/umm_road_000085.png', 'umm_000052.png': './data/data_road/training/gt_image_2/umm_road_000052.png', 'umm_000046.png': './data/data_road/training/gt_image_2/umm_road_000046.png', 'umm_000047.png': './data/data_road/training/gt_image_2/umm_road_000047.png', 'umm_000053.png': './data/data_road/training/gt_image_2/umm_road_000053.png', 'umm_000084.png': './data/data_road/training/gt_image_2/umm_road_000084.png', 'umm_000090.png': './data/data_road/training/gt_image_2/umm_road_000090.png', 'uu_000033.png': './data/data_road/training/gt_image_2/uu_road_000033.png', 'uu_000027.png': './data/data_road/training/gt_image_2/uu_road_000027.png', 'um_000038.png': './data/data_road/training/gt_image_2/um_road_000038.png', 'um_000004.png': './data/data_road/training/gt_image_2/um_road_000004.png', 'um_000010.png': './data/data_road/training/gt_image_2/um_road_000010.png', 'um_000028.png': './data/data_road/training/gt_image_2/um_road_000028.png', 'um_000014.png': './data/data_road/training/gt_image_2/um_road_000014.png', 'um_000000.png': './data/data_road/training/gt_image_2/um_road_000000.png', 'uu_000023.png': './data/data_road/training/gt_image_2/uu_road_000023.png', 'uu_000037.png': './data/data_road/training/gt_image_2/uu_road_000037.png', 'umm_000094.png': './data/data_road/training/gt_image_2/umm_road_000094.png', 'umm_000080.png': './data/data_road/training/gt_image_2/umm_road_000080.png', 'umm_000057.png': './data/data_road/training/gt_image_2/umm_road_000057.png', 'umm_000043.png': './data/data_road/training/gt_image_2/umm_road_000043.png', 'umm_000042.png': './data/data_road/training/gt_image_2/umm_road_000042.png', 'umm_000056.png': './data/data_road/training/gt_image_2/umm_road_000056.png', 'umm_000081.png': './data/data_road/training/gt_image_2/umm_road_000081.png', 'umm_000095.png': './data/data_road/training/gt_image_2/umm_road_000095.png', 'uu_000036.png': './data/data_road/training/gt_image_2/uu_road_000036.png', 'uu_000022.png': './data/data_road/training/gt_image_2/uu_road_000022.png', 'um_000001.png': './data/data_road/training/gt_image_2/um_road_000001.png', 'um_000015.png': './data/data_road/training/gt_image_2/um_road_000015.png', 'um_000029.png': './data/data_road/training/gt_image_2/um_road_000029.png', 'um_000003.png': './data/data_road/training/gt_image_2/um_road_000003.png', 'um_000017.png': './data/data_road/training/gt_image_2/um_road_000017.png', 'uu_000034.png': './data/data_road/training/gt_image_2/uu_road_000034.png', 'uu_000020.png': './data/data_road/training/gt_image_2/uu_road_000020.png', 'uu_000008.png': './data/data_road/training/gt_image_2/uu_road_000008.png', 'umm_000083.png': './data/data_road/training/gt_image_2/umm_road_000083.png', 'umm_000068.png': './data/data_road/training/gt_image_2/umm_road_000068.png', 'umm_000040.png': './data/data_road/training/gt_image_2/umm_road_000040.png', 'umm_000054.png': './data/data_road/training/gt_image_2/umm_road_000054.png', 'umm_000055.png': './data/data_road/training/gt_image_2/umm_road_000055.png', 'umm_000041.png': './data/data_road/training/gt_image_2/umm_road_000041.png', 'umm_000069.png': './data/data_road/training/gt_image_2/umm_road_000069.png', 'umm_000082.png': './data/data_road/training/gt_image_2/umm_road_000082.png', 'uu_000009.png': './data/data_road/training/gt_image_2/uu_road_000009.png', 'uu_000021.png': './data/data_road/training/gt_image_2/uu_road_000021.png', 'uu_000035.png': './data/data_road/training/gt_image_2/uu_road_000035.png', 'um_000016.png': './data/data_road/training/gt_image_2/um_road_000016.png', 'um_000002.png': './data/data_road/training/gt_image_2/um_road_000002.png', 'um_000065.png': './data/data_road/training/gt_image_2/um_road_000065.png', 'um_000071.png': './data/data_road/training/gt_image_2/um_road_000071.png', 'um_000059.png': './data/data_road/training/gt_image_2/um_road_000059.png', 'uu_000052.png': './data/data_road/training/gt_image_2/uu_road_000052.png', 'uu_000046.png': './data/data_road/training/gt_image_2/uu_road_000046.png', 'uu_000091.png': './data/data_road/training/gt_image_2/uu_road_000091.png', 'uu_000085.png': './data/data_road/training/gt_image_2/uu_road_000085.png', 'umm_000026.png': './data/data_road/training/gt_image_2/umm_road_000026.png', 'umm_000032.png': './data/data_road/training/gt_image_2/umm_road_000032.png', 'umm_000033.png': './data/data_road/training/gt_image_2/umm_road_000033.png', 'umm_000027.png': './data/data_road/training/gt_image_2/umm_road_000027.png', 'uu_000084.png': './data/data_road/training/gt_image_2/uu_road_000084.png', 'uu_000090.png': './data/data_road/training/gt_image_2/uu_road_000090.png', 'uu_000047.png': './data/data_road/training/gt_image_2/uu_road_000047.png', 'uu_000053.png': './data/data_road/training/gt_image_2/uu_road_000053.png', 'um_000058.png': './data/data_road/training/gt_image_2/um_road_000058.png', 'um_000070.png': './data/data_road/training/gt_image_2/um_road_000070.png', 'um_000064.png': './data/data_road/training/gt_image_2/um_road_000064.png', 'um_000072.png': './data/data_road/training/gt_image_2/um_road_000072.png', 'um_000066.png': './data/data_road/training/gt_image_2/um_road_000066.png', 'uu_000079.png': './data/data_road/training/gt_image_2/uu_road_000079.png', 'uu_000045.png': './data/data_road/training/gt_image_2/uu_road_000045.png', 'uu_000051.png': './data/data_road/training/gt_image_2/uu_road_000051.png', 'uu_000086.png': './data/data_road/training/gt_image_2/uu_road_000086.png', 'uu_000092.png': './data/data_road/training/gt_image_2/uu_road_000092.png', 'umm_000031.png': './data/data_road/training/gt_image_2/umm_road_000031.png', 'umm_000025.png': './data/data_road/training/gt_image_2/umm_road_000025.png', 'umm_000019.png': './data/data_road/training/gt_image_2/umm_road_000019.png', 'umm_000018.png': './data/data_road/training/gt_image_2/umm_road_000018.png', 'umm_000024.png': './data/data_road/training/gt_image_2/umm_road_000024.png', 'umm_000030.png': './data/data_road/training/gt_image_2/umm_road_000030.png', 'uu_000093.png': './data/data_road/training/gt_image_2/uu_road_000093.png', 'uu_000087.png': './data/data_road/training/gt_image_2/uu_road_000087.png', 'uu_000050.png': './data/data_road/training/gt_image_2/uu_road_000050.png', 'uu_000044.png': './data/data_road/training/gt_image_2/uu_road_000044.png', 'uu_000078.png': './data/data_road/training/gt_image_2/uu_road_000078.png', 'um_000067.png': './data/data_road/training/gt_image_2/um_road_000067.png', 'um_000073.png': './data/data_road/training/gt_image_2/um_road_000073.png', 'um_000088.png': './data/data_road/training/gt_image_2/um_road_000088.png', 'um_000077.png': './data/data_road/training/gt_image_2/um_road_000077.png', 'um_000063.png': './data/data_road/training/gt_image_2/um_road_000063.png', 'uu_000040.png': './data/data_road/training/gt_image_2/uu_road_000040.png', 'uu_000054.png': './data/data_road/training/gt_image_2/uu_road_000054.png', 'uu_000068.png': './data/data_road/training/gt_image_2/uu_road_000068.png', 'uu_000083.png': './data/data_road/training/gt_image_2/uu_road_000083.png', 'uu_000097.png': './data/data_road/training/gt_image_2/uu_road_000097.png', 'umm_000008.png': './data/data_road/training/gt_image_2/umm_road_000008.png', 'umm_000034.png': './data/data_road/training/gt_image_2/umm_road_000034.png', 'umm_000020.png': './data/data_road/training/gt_image_2/umm_road_000020.png', 'umm_000021.png': './data/data_road/training/gt_image_2/umm_road_000021.png', 'umm_000035.png': './data/data_road/training/gt_image_2/umm_road_000035.png', 'umm_000009.png': './data/data_road/training/gt_image_2/umm_road_000009.png', 'uu_000096.png': './data/data_road/training/gt_image_2/uu_road_000096.png', 'uu_000082.png': './data/data_road/training/gt_image_2/uu_road_000082.png', 'uu_000069.png': './data/data_road/training/gt_image_2/uu_road_000069.png', 'uu_000055.png': './data/data_road/training/gt_image_2/uu_road_000055.png', 'uu_000041.png': './data/data_road/training/gt_image_2/uu_road_000041.png', 'um_000062.png': './data/data_road/training/gt_image_2/um_road_000062.png', 'um_000076.png': './data/data_road/training/gt_image_2/um_road_000076.png', 'um_000089.png': './data/data_road/training/gt_image_2/um_road_000089.png', 'um_000048.png': './data/data_road/training/gt_image_2/um_road_000048.png', 'um_000060.png': './data/data_road/training/gt_image_2/um_road_000060.png', 'um_000074.png': './data/data_road/training/gt_image_2/um_road_000074.png', 'uu_000057.png': './data/data_road/training/gt_image_2/uu_road_000057.png', 'uu_000043.png': './data/data_road/training/gt_image_2/uu_road_000043.png', 'uu_000094.png': './data/data_road/training/gt_image_2/uu_road_000094.png', 'uu_000080.png': './data/data_road/training/gt_image_2/uu_road_000080.png', 'umm_000023.png': './data/data_road/training/gt_image_2/umm_road_000023.png', 'umm_000037.png': './data/data_road/training/gt_image_2/umm_road_000037.png', 'umm_000036.png': './data/data_road/training/gt_image_2/umm_road_000036.png', 'umm_000022.png': './data/data_road/training/gt_image_2/umm_road_000022.png', 'uu_000081.png': './data/data_road/training/gt_image_2/uu_road_000081.png', 'uu_000095.png': './data/data_road/training/gt_image_2/uu_road_000095.png', 'uu_000042.png': './data/data_road/training/gt_image_2/uu_road_000042.png', 'uu_000056.png': './data/data_road/training/gt_image_2/uu_road_000056.png', 'um_000075.png': './data/data_road/training/gt_image_2/um_road_000075.png', 'um_000061.png': './data/data_road/training/gt_image_2/um_road_000061.png', 'um_000049.png': './data/data_road/training/gt_image_2/um_road_000049.png'}\n"
     ]
    }
   ],
   "source": [
    "data_folder = './data/data_road/training'\n",
    "\n",
    "image_paths = glob(os.path.join(data_folder, 'image_2', '*.png'))\n",
    "label_paths = {\n",
    "    re.sub(r'_(lane|road)_', '_', os.path.basename(path)): path\n",
    "    for path in glob(os.path.join(data_folder, 'gt_image_2', '*_road_*.png'))}\n",
    "print(label_paths)"
   ]
  },
  {
   "cell_type": "code",
   "execution_count": null,
   "metadata": {},
   "outputs": [],
   "source": []
  }
 ],
 "metadata": {
  "kernelspec": {
   "display_name": "Python 3",
   "language": "python",
   "name": "python3"
  },
  "language_info": {
   "codemirror_mode": {
    "name": "ipython",
    "version": 3
   },
   "file_extension": ".py",
   "mimetype": "text/x-python",
   "name": "python",
   "nbconvert_exporter": "python",
   "pygments_lexer": "ipython3",
   "version": "3.6.4"
  }
 },
 "nbformat": 4,
 "nbformat_minor": 2
}
