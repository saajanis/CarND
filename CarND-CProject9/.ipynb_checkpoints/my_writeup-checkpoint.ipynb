{
 "cells": [
  {
   "cell_type": "markdown",
   "metadata": {},
   "source": [
    "[//]: # (Image References)\n",
    "\n",
    "[video1]: ./videos/JustP.mp4 \"Video\"\n",
    "[video2]: ./videos/PD.mp4 \"Video\"\n",
    "[video3]: ./videos/PDI.mp4 \"Video\"\n",
    "[video4]: ./videos/full.mp4 \"Video\"\n",
    "\n",
    "\n",
    "\n",
    "\n",
    "### First, I will discuss the effect that each of P, I and D had on the performance:\n",
    "\n",
    "I chose to limit the value of CTE provided by the simulator to [-1.3, 1.3]. This is roughly the width of the track.\n",
    "\n",
    "I also chose to average out the suggested steering angle over the last 5 frames to get smoother change in angles.\n",
    "\n",
    "\n",
    "## P:\n",
    "\n",
    "With just P, the car goes around in a wavy motion even on a straight track - with the waves getting bigger as we progress - like I expected it to.\n",
    "\n",
    "Here's a video of the simulation with just the P controller: \n",
    "[P Video](https://youtu.be/64DMrbk8-zU)\n",
    "\n",
    "## PD: \n",
    "\n",
    "For the most part, the car drives just fine, but when it does have to do the corrections, the waviness is more pronounced. It dies out eventually and the car goes back to driving smoothly.\n",
    "\n",
    "Here's a video of the simulation with P AND D controller: \n",
    "[PD Video](https://youtu.be/62o5yCd7P2Y)\n",
    "\n",
    "\n",
    "## PDI:\n",
    "\n",
    "With the introduction of the I controller, I see that the corrections (when they need to be done) are a lot more smoother. They form less pronounced waves as compared to the case of P and D controller. \n",
    "\n",
    "It does introduce a weird problem where the car needs corrections slightly more often - like the wheels will turn abruptly even when the CTE is quite low.\n",
    "\n",
    "Here's a video of the simulation with P, I AND D controller: \n",
    "[PDI Video](https://youtu.be/DSVv7rh_LA4)\n",
    "\n",
    "\n",
    "## Full track:\n",
    "Here's a video of the whole track with P, I AND D controller: \n",
    "[Full track Video](https://youtu.be/Xl0FH4SlFS8)\n",
    "\n",
    "\n",
    "\n",
    "### Approach used for hyperparameter tuning: \n",
    "\n",
    "I used Twiddle for hyperparameter tuning. Most of the code for twiddle is implemented in method UpdateError(...).\n",
    "\n",
    "The code for computing the steering angle is implemented in method Run(...).\n",
    "\n",
    "I chose a consistent growth factor/pentalty of 1.1 and 0.9 respectively for all controllers.\n",
    "\n",
    "I used the design where I have a P/I/D that goes into the actual equation for calculating the steering angle and then a dP/dI/dD that helps P/I/D grow or shrink based on the decrease or increase in CTE over consecutive frames.\n",
    "\n",
    "For the P controller, I chose to limit the value of P and dP between [-0.4, 0.4].\n",
    "For the D controller, I chose to limit the value of D and dD between [0, 40].\n",
    "For the I controller, I chose to limit the value of I and dI between [0, 0.1].\n",
    "\n",
    "In addition, since the cumulative CTE can grow pretty large if I just keep on adding it, I decided to use a moving average calculated as the sum: 0.95*sum(CTE so far) + current_cte.\n",
    "\n",
    "For each frame's CTE that comes in, the hyperparameters are updated and a new suggested steering estimated based on them after clipping theor values to the respective limits I've decided for each."
   ]
  },
  {
   "cell_type": "code",
   "execution_count": null,
   "metadata": {
    "collapsed": true
   },
   "outputs": [],
   "source": []
  }
 ],
 "metadata": {
  "kernelspec": {
   "display_name": "Python 3",
   "language": "python",
   "name": "python3"
  },
  "language_info": {
   "codemirror_mode": {
    "name": "ipython",
    "version": 3
   },
   "file_extension": ".py",
   "mimetype": "text/x-python",
   "name": "python",
   "nbconvert_exporter": "python",
   "pygments_lexer": "ipython3",
   "version": "3.6.0a4"
  }
 },
 "nbformat": 4,
 "nbformat_minor": 2
}
