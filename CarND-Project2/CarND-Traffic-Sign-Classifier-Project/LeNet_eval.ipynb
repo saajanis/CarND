{
 "cells": [
  {
   "cell_type": "markdown",
   "metadata": {},
   "source": [
    "# LeNet Lab\n",
    "![LeNet Architecture](lenet.png)\n",
    "Source: Yan LeCun"
   ]
  },
  {
   "cell_type": "markdown",
   "metadata": {},
   "source": [
    "## Load Data\n",
    "\n",
    "Load the MNIST data, which comes pre-loaded with TensorFlow.\n",
    "\n",
    "You do not need to modify this section."
   ]
  },
  {
   "cell_type": "code",
   "execution_count": null,
   "metadata": {
    "collapsed": true
   },
   "outputs": [],
   "source": [
    "import tensorflow as tf\n",
    "\n",
    "%store -r current_data_dict\n",
    "%store -r current_data_dict_name\n",
    "tf.reset_default_graph()\n",
    "\n",
    "X_train, y_train           = current_data_dict['X_train'], current_data_dict['y_train']\n",
    "X_validation, y_validation = current_data_dict['X_valid'], current_data_dict['y_valid']\n",
    "X_test, y_test             = current_data_dict['X_test'], current_data_dict['y_test']\n",
    "X_my_test, y_my_test       = current_data_dict['X_my_test'], current_data_dict['y_my_test']\n",
    "\n",
    "\n",
    "assert(len(X_train) == len(y_train))\n",
    "assert(len(X_validation) == len(y_validation))\n",
    "assert(len(X_test) == len(y_test))\n",
    "assert(len(X_my_test) == len(y_my_test))\n",
    "\n",
    "# print()\n",
    "# print(\"Image Shape: {}\".format(X_train[0].shape))\n",
    "# print()\n",
    "# print(\"Training Set:   {} samples\".format(len(X_train)))\n",
    "# print(\"Validation Set: {} samples\".format(len(X_validation)))\n",
    "# print(\"Test Set:       {} samples\".format(len(X_test)))"
   ]
  },
  {
   "cell_type": "markdown",
   "metadata": {},
   "source": [
    "The MNIST data that TensorFlow pre-loads comes as 28x28x1 images.\n",
    "\n",
    "However, the LeNet architecture only accepts 32x32xC images, where C is the number of color channels.\n",
    "\n",
    "In order to reformat the MNIST data into a shape that LeNet will accept, we pad the data with two rows of zeros on the top and bottom, and two columns of zeros on the left and right (28+2+2 = 32).\n",
    "\n",
    "You do not need to modify this section."
   ]
  },
  {
   "cell_type": "code",
   "execution_count": 2,
   "metadata": {
    "collapsed": true
   },
   "outputs": [],
   "source": [
    "import numpy as np\n",
    "\n",
    "# Pad images with 0s\n",
    "# X_train      = np.pad(X_train, ((0,0),(2,2),(2,2),(0,0)), 'constant')\n",
    "# X_validation = np.pad(X_validation, ((0,0),(2,2),(2,2),(0,0)), 'constant')\n",
    "# X_test       = np.pad(X_test, ((0,0),(2,2),(2,2),(0,0)), 'constant')\n",
    "    \n",
    "# print(\"Updated Image Shape: {}\".format(X_train[0].shape))"
   ]
  },
  {
   "cell_type": "markdown",
   "metadata": {},
   "source": [
    "## Visualize Data\n",
    "\n",
    "View a sample from the dataset.\n",
    "\n",
    "You do not need to modify this section."
   ]
  },
  {
   "cell_type": "code",
   "execution_count": 3,
   "metadata": {
    "collapsed": true
   },
   "outputs": [],
   "source": [
    "import random\n",
    "import numpy as np\n",
    "import matplotlib.pyplot as plt\n",
    "%matplotlib inline\n",
    "\n",
    "index = random.randint(0, len(X_train))\n",
    "image = X_train[index].squeeze()\n",
    "# print(image.shape)\n",
    "\n",
    "# plt.figure(figsize=(1,1))\n",
    "# plt.imshow(image, cmap=\"gray\")\n",
    "# print(y_train[index])"
   ]
  },
  {
   "cell_type": "markdown",
   "metadata": {},
   "source": [
    "## Preprocess Data\n",
    "\n",
    "Shuffle the training data.\n",
    "\n",
    "You do not need to modify this section."
   ]
  },
  {
   "cell_type": "code",
   "execution_count": 4,
   "metadata": {
    "collapsed": true
   },
   "outputs": [],
   "source": [
    "from sklearn.utils import shuffle\n",
    "\n",
    "X_train, y_train = shuffle(X_train, y_train)"
   ]
  },
  {
   "cell_type": "markdown",
   "metadata": {},
   "source": [
    "## Setup TensorFlow\n",
    "The `EPOCH` and `BATCH_SIZE` values affect the training speed and model accuracy.\n",
    "\n",
    "You do not need to modify this section."
   ]
  },
  {
   "cell_type": "code",
   "execution_count": 5,
   "metadata": {
    "collapsed": true
   },
   "outputs": [],
   "source": [
    "EPOCHS = 2\n",
    "BATCH_SIZE = 128"
   ]
  },
  {
   "cell_type": "markdown",
   "metadata": {},
   "source": [
    "## TODO: Implement LeNet-5\n",
    "Implement the [LeNet-5](http://yann.lecun.com/exdb/lenet/) neural network architecture.\n",
    "\n",
    "This is the only cell you need to edit.\n",
    "### Input\n",
    "The LeNet architecture accepts a 32x32xC image as input, where C is the number of color channels. Since MNIST images are grayscale, C is 1 in this case.\n",
    "\n",
    "### Architecture\n",
    "**Layer 1: Convolutional.** The output shape should be 28x28x6.\n",
    "\n",
    "**Activation.** Your choice of activation function.\n",
    "\n",
    "**Pooling.** The output shape should be 14x14x6.\n",
    "\n",
    "**Layer 2: Convolutional.** The output shape should be 10x10x16.\n",
    "\n",
    "**Activation.** Your choice of activation function.\n",
    "\n",
    "**Pooling.** The output shape should be 5x5x16.\n",
    "\n",
    "**Flatten.** Flatten the output shape of the final pooling layer such that it's 1D instead of 3D. The easiest way to do is by using `tf.contrib.layers.flatten`, which is already imported for you.\n",
    "\n",
    "**Layer 3: Fully Connected.** This should have 120 outputs.\n",
    "\n",
    "**Activation.** Your choice of activation function.\n",
    "\n",
    "**Layer 4: Fully Connected.** This should have 84 outputs.\n",
    "\n",
    "**Activation.** Your choice of activation function.\n",
    "\n",
    "**Layer 5: Fully Connected (Logits).** This should have 10 outputs.\n",
    "\n",
    "### Output\n",
    "Return the result of the 2nd fully connected layer."
   ]
  },
  {
   "cell_type": "code",
   "execution_count": 6,
   "metadata": {
    "collapsed": true
   },
   "outputs": [],
   "source": [
    "from tensorflow.contrib.layers import flatten\n",
    "\n",
    "def conv2d(x, W, b, strides=1):\n",
    "    x = tf.nn.conv2d(x, W, strides=[1, strides, strides, 1], padding='VALID')\n",
    "    x = tf.nn.bias_add(x, b)\n",
    "    return tf.nn.relu(x)\n",
    "\n",
    "def maxpool2d(x, k=2):\n",
    "    return tf.nn.max_pool(\n",
    "        x,\n",
    "        ksize=[1, k, k, 1],\n",
    "        strides=[1, k, k, 1],\n",
    "        padding='SAME')\n",
    "\n",
    "def LeNet(x):    \n",
    "    # TODO(saajan): Use this function\n",
    "    # Arguments used for tf.truncated_normal, randomly defines variables for the weights and biases for each layer\n",
    "    mu = 0\n",
    "    sigma = 0.1\n",
    "    n_classes = 43\n",
    "    dropout = 0.25  # Dropout, probability to keep units\n",
    "    \n",
    "    weights = {\n",
    "    'wc1': tf.Variable(tf.random_normal([5, 5, x.get_shape()[3].value, 6], mean=mu, stddev=sigma), name='wc1Variable'),\n",
    "    'wc2': tf.Variable(tf.random_normal([5, 5, 6, 16], mean=mu, stddev=sigma), name='wc2Variable'),\n",
    "    'wd1': tf.Variable(tf.random_normal([400, 120], mean=mu, stddev=sigma), name='wd1Variable'),\n",
    "    'wd2': tf.Variable(tf.random_normal([120, 84], mean=mu, stddev=sigma), name='wd2Variable'),\n",
    "    'out': tf.Variable(tf.random_normal([84, n_classes], mean=mu, stddev=sigma), name='outVariable')\n",
    "        \n",
    "    }\n",
    "\n",
    "    biases = {\n",
    "        'bc1': tf.Variable(tf.random_normal([6]), name='bc1Variable'),\n",
    "        'bc2': tf.Variable(tf.random_normal([16]), name='bc2Variable'),\n",
    "        'bd1': tf.Variable(tf.random_normal([120]), name='bd1Variable'),\n",
    "        'bd2': tf.Variable(tf.random_normal([84]), name='bd2Variable'),\n",
    "        'out': tf.Variable(tf.random_normal([n_classes]), name='outVariable')\n",
    "        \n",
    "    }\n",
    "    \n",
    "    # TODO: Layer 1: Convolutional. Input = 32x32x1. Output = 28x28x6.\n",
    "    # TODO: Activation.\n",
    "    conv1 = conv2d(x, weights['wc1'], biases['bc1'])\n",
    "    # TODO: Pooling. Input = 28x28x6. Output = 14x14x6.\n",
    "    conv1 = maxpool2d(conv1, k=2)\n",
    "    \n",
    "    # TODO: Layer 2: Convolutional. Output = 10x10x16.\n",
    "    # TODO: Activation and dropout.\n",
    "    conv2 = conv2d(conv1, weights['wc2'], biases['bc2'])\n",
    "    # TODO: Pooling. Input = 10x10x16. Output = 5x5x16.\n",
    "    conv2 = maxpool2d(conv2, k=2)\n",
    "\n",
    "    # TODO: Flatten. Input = 5x5x16. Output = 400.\n",
    "    flat = tf.contrib.layers.flatten(conv2)\n",
    "    \n",
    "    # TODO: Layer 3: Fully Connected. Input = 400. Output = 120.\n",
    "    fc1 = tf.add(tf.matmul(flat, weights['wd1']), biases['bd1'])\n",
    "    # TODO: Activation.\n",
    "    fc1 = tf.nn.relu(fc1)\n",
    "\n",
    "    # TODO: Layer 4: Fully Connected. Input = 120. Output = 84.\n",
    "    fc2 = tf.add(tf.matmul(fc1, weights['wd2']), biases['bd2'])\n",
    "    # TODO: Activation snd dropout.\n",
    "    fc2 = tf.nn.relu(fc2)\n",
    "\n",
    "    # TODO: Layer 5: Fully Connected. Input = 84. Output = 43.\n",
    "    logits = tf.add(tf.matmul(fc2, weights['out']), biases['out'])\n",
    "    \n",
    "    return logits"
   ]
  },
  {
   "cell_type": "markdown",
   "metadata": {},
   "source": [
    "## Features and Labels\n",
    "Train LeNet to classify [MNIST](http://yann.lecun.com/exdb/mnist/) data.\n",
    "\n",
    "`x` is a placeholder for a batch of input images.\n",
    "`y` is a placeholder for a batch of output labels.\n",
    "\n",
    "You do not need to modify this section."
   ]
  },
  {
   "cell_type": "code",
   "execution_count": 7,
   "metadata": {
    "collapsed": true
   },
   "outputs": [],
   "source": [
    "x = tf.placeholder(tf.float32, (None, 32, 32, X_train[0].shape[2]), name='xplaceholder')\n",
    "y = tf.placeholder(tf.int32, (None), name='yplaceholder')\n",
    "one_hot_y = tf.one_hot(y, 43)"
   ]
  },
  {
   "cell_type": "markdown",
   "metadata": {},
   "source": [
    "## Training Pipeline\n",
    "Create a training pipeline that uses the model to classify MNIST data.\n",
    "\n",
    "You do not need to modify this section."
   ]
  },
  {
   "cell_type": "code",
   "execution_count": 8,
   "metadata": {
    "collapsed": true
   },
   "outputs": [],
   "source": [
    "rate = 0.001\n",
    "\n",
    "logits = LeNet(x)\n",
    "cross_entropy = tf.nn.softmax_cross_entropy_with_logits(labels=one_hot_y, logits=logits)\n",
    "loss_operation = tf.reduce_mean(cross_entropy)\n",
    "optimizer = tf.train.AdamOptimizer(learning_rate = rate)\n",
    "training_operation = optimizer.minimize(loss_operation)"
   ]
  },
  {
   "cell_type": "markdown",
   "metadata": {},
   "source": [
    "## Model Evaluation\n",
    "Evaluate how well the loss and accuracy of the model for a given dataset.\n",
    "\n",
    "You do not need to modify this section."
   ]
  },
  {
   "cell_type": "code",
   "execution_count": 9,
   "metadata": {
    "collapsed": true
   },
   "outputs": [],
   "source": [
    "prediction_values = tf.argmax(logits, 1)\n",
    "softmax = tf.nn.softmax(logits)\n",
    "\n",
    "correct_prediction = tf.equal(tf.argmax(logits, 1), tf.argmax(one_hot_y, 1))\n",
    "accuracy_operation = tf.reduce_mean(tf.cast(correct_prediction, tf.float32))\n",
    "saver = tf.train.Saver(max_to_keep=100000)\n",
    "\n",
    "def evaluate(X_data, y_data):\n",
    "    num_examples = len(X_data)\n",
    "    total_accuracy = 0\n",
    "    sess = tf.get_default_session()\n",
    "    for offset in range(0, num_examples, BATCH_SIZE):\n",
    "        batch_x, batch_y = X_data[offset:offset+BATCH_SIZE], y_data[offset:offset+BATCH_SIZE]\n",
    "        accuracy = sess.run(accuracy_operation, feed_dict={x: batch_x, y: batch_y})\n",
    "        total_accuracy += (accuracy * len(batch_x))\n",
    "    return total_accuracy / num_examples"
   ]
  },
  {
   "cell_type": "markdown",
   "metadata": {},
   "source": [
    "## Train the Model\n",
    "Run the training data through the training pipeline to train the model.\n",
    "\n",
    "Before each epoch, shuffle the training set.\n",
    "\n",
    "After each epoch, measure the loss and accuracy of the validation set.\n",
    "\n",
    "Save the model after training.\n",
    "\n",
    "You do not need to modify this section."
   ]
  },
  {
   "cell_type": "code",
   "execution_count": null,
   "metadata": {
    "collapsed": true
   },
   "outputs": [],
   "source": [
    "from tqdm import tqdm\n",
    "import matplotlib.pyplot as plt\n",
    "import math\n",
    "from pathlib import Path\n",
    "import os\n",
    "\n",
    "os.environ['TF_CPP_MIN_LOG_LEVEL'] = '3' \n",
    "tf.logging.set_verbosity(tf.logging.ERROR)\n",
    "\n",
    "\n",
    "session_name = './data/' + current_data_dict_name\n",
    "\n",
    "num_examples = len(X_train)\n",
    "\n",
    "train_acc_list = []\n",
    "valid_acc_list = []\n",
    "\n",
    "with tf.Session() as sess:\n",
    "    sess.run(tf.global_variables_initializer())\n",
    "\n",
    "    # Progress bar\n",
    "    epochs_pbar = tqdm(range(EPOCHS), desc='Epoch', unit='epochs')\n",
    "    for i in epochs_pbar:\n",
    "\n",
    "        if not Path(session_name + \"_\" + str(i) + \".meta\").is_file():\n",
    "            #print(\"Training...\")\n",
    "            #print()\n",
    "            X_train, y_train = shuffle(X_train, y_train)\n",
    "            for offset in range(0, num_examples, BATCH_SIZE):\n",
    "                end = offset + BATCH_SIZE\n",
    "                batch_x, batch_y = X_train[offset:end], y_train[offset:end]                \n",
    "                sess.run(training_operation, feed_dict={x: batch_x, y: batch_y})\n",
    "            saver.save(sess, session_name + \"_\" + str(i))\n",
    "            #print(\"Model saved at: \" + session_name + \"_\" + str(i) +  \"...\")\n",
    "        else:\n",
    "            #print(\"Model exists. Restoring from: \" + session_name + \"_\" + str(i) +  \"...\")\n",
    "            sess.run(tf.global_variables_initializer())\n",
    "            saver.restore(sess, session_name + \"_\" + str(i))\n",
    "            optimizer = tf.get_collection(\"optimizer\")\n",
    "\n",
    "\n",
    "        training_accuracy = evaluate(X_train, y_train)\n",
    "        validation_accuracy = evaluate(X_validation, y_validation)\n",
    "\n",
    "        train_acc_list.append(training_accuracy)\n",
    "        valid_acc_list.append(validation_accuracy)\n",
    "\n",
    "#         print(\"EPOCH {} ...\".format(i+1))\n",
    "#         print(\"Training Accuracy = {:.3f}\".format(training_accuracy))\n",
    "#         print(\"Validation Accuracy = {:.3f}\".format(validation_accuracy))\n",
    "#         print()\n",
    "\n",
    "acc_plot = plt.subplot(211)\n",
    "acc_plot.set_title('Accuracy')\n",
    "batches = [i for i in range(1, len(train_acc_list)+1, 1)]\n",
    "acc_plot.plot(batches, train_acc_list, 'r', label='Training Accuracy')\n",
    "acc_plot.plot(batches, valid_acc_list, 'x', label='Validation Accuracy')\n",
    "acc_plot.set_ylim([0, 1.0])\n",
    "acc_plot.set_xlim([batches[0], batches[-1]])\n",
    "acc_plot.legend(loc=4)\n",
    "plt.tight_layout()\n",
    "plt.show()\n",
    "\n",
    "# print(\"Training accuracies: \")\n",
    "# print(train_acc_list)\n",
    "# print(\"Validation accuracies: \")\n",
    "# print(valid_acc_list)\n",
    "\n",
    "# saver.save(sess, session_name)\n",
    "# print(\"Model saved at: \" + session_name +  \"...\")\n",
    "        \n",
    "# else:\n",
    "#     print(\"Model already saved. Restoring from: \" + session_name + \"...\")"
   ]
  },
  {
   "cell_type": "markdown",
   "metadata": {},
   "source": [
    "## Evaluate the Model\n",
    "Once you are completely satisfied with your model, evaluate the performance of the model on the test set.\n",
    "\n",
    "Be sure to only do this once!\n",
    "\n",
    "If you were to measure the performance of your trained model on the test set, then improve your model, and then measure the performance of your model on the test set again, that would invalidate your test results. You wouldn't get a true measure of how well your model would perform against real data.\n",
    "\n",
    "You do not need to modify this section."
   ]
  },
  {
   "cell_type": "code",
   "execution_count": 10,
   "metadata": {},
   "outputs": [
    {
     "ename": "NameError",
     "evalue": "name 'session_name' is not defined",
     "output_type": "error",
     "traceback": [
      "\u001b[0;31m---------------------------------------------------------------------------\u001b[0m",
      "\u001b[0;31mNameError\u001b[0m                                 Traceback (most recent call last)",
      "\u001b[0;32m<ipython-input-10-377758a70dc1>\u001b[0m in \u001b[0;36m<module>\u001b[0;34m()\u001b[0m\n\u001b[1;32m      2\u001b[0m     \u001b[0msess\u001b[0m\u001b[0;34m.\u001b[0m\u001b[0mrun\u001b[0m\u001b[0;34m(\u001b[0m\u001b[0mtf\u001b[0m\u001b[0;34m.\u001b[0m\u001b[0mglobal_variables_initializer\u001b[0m\u001b[0;34m(\u001b[0m\u001b[0;34m)\u001b[0m\u001b[0;34m)\u001b[0m\u001b[0;34m\u001b[0m\u001b[0m\n\u001b[1;32m      3\u001b[0m \u001b[0;34m\u001b[0m\u001b[0m\n\u001b[0;32m----> 4\u001b[0;31m     \u001b[0msaver\u001b[0m\u001b[0;34m.\u001b[0m\u001b[0mrestore\u001b[0m\u001b[0;34m(\u001b[0m\u001b[0msess\u001b[0m\u001b[0;34m,\u001b[0m \u001b[0msession_name\u001b[0m \u001b[0;34m+\u001b[0m \u001b[0;34m\"_\"\u001b[0m \u001b[0;34m+\u001b[0m \u001b[0mstr\u001b[0m\u001b[0;34m(\u001b[0m\u001b[0mEPOCHS\u001b[0m\u001b[0;34m-\u001b[0m\u001b[0;36m1\u001b[0m\u001b[0;34m)\u001b[0m\u001b[0;34m)\u001b[0m\u001b[0;34m\u001b[0m\u001b[0m\n\u001b[0m\u001b[1;32m      5\u001b[0m     \u001b[0moptimizer\u001b[0m \u001b[0;34m=\u001b[0m \u001b[0mtf\u001b[0m\u001b[0;34m.\u001b[0m\u001b[0mget_collection\u001b[0m\u001b[0;34m(\u001b[0m\u001b[0;34m\"optimizer\"\u001b[0m\u001b[0;34m)\u001b[0m\u001b[0;34m\u001b[0m\u001b[0m\n\u001b[1;32m      6\u001b[0m \u001b[0;34m\u001b[0m\u001b[0m\n",
      "\u001b[0;31mNameError\u001b[0m: name 'session_name' is not defined"
     ]
    }
   ],
   "source": [
    "with tf.Session() as sess: \n",
    "    sess.run(tf.global_variables_initializer())\n",
    "    \n",
    "    saver.restore(sess, session_name + \"_\" + str(EPOCHS-1))\n",
    "    optimizer = tf.get_collection(\"optimizer\")\n",
    "\n",
    "    test_accuracy = evaluate(X_test, y_test)\n",
    "    print(\"Test Accuracy = {:.3f}\".format(test_accuracy))"
   ]
  },
  {
   "cell_type": "code",
   "execution_count": 12,
   "metadata": {},
   "outputs": [
    {
     "name": "stdout",
     "output_type": "stream",
     "text": [
      "INFO:tensorflow:Restoring parameters from ./data/cropped_grayscaled_normalized_data_1\n",
      "My data test Accuracy = 0.500\n"
     ]
    }
   ],
   "source": [
    "from itertools import islice\n",
    "from prettytable import PrettyTable\n",
    "from texttable import Texttable\n",
    "\n",
    "session_name = './data/' + current_data_dict_name\n",
    "with tf.Session() as sess: \n",
    "    sess.run(tf.global_variables_initializer())\n",
    "    \n",
    "    saver.restore(sess, session_name + \"_\" + str(EPOCHS-1))\n",
    "    optimizer = tf.get_collection(\"optimizer\")\n",
    "\n",
    "    show_data([current_data_dict], 'my_test')\n",
    "    \n",
    "    test_accuracy = evaluate(X_my_test, y_my_test)\n",
    "    print(\"5 images test data Accuracy = {:.3f}\".format(test_accuracy))\n",
    "    predictions = sess.run(prediction_values, feed_dict={x: X_my_test, y: y_my_test})\n",
    "    \n",
    "    #Top 5 softmax:\n",
    "    softmax_output = sess.run(softmax, feed_dict={x: X_my_test, y: y_my_test})\n",
    "    # Should get top 5 tuples of name -> prob\n",
    "    five_name_prob_tuples_list = []\n",
    "    for image_softmaxes in softmax_output:\n",
    "        # 43 per image\n",
    "        # Dict of 43 name keys to prob for this image\n",
    "        sign_prob_dict = {}\n",
    "        for idx, prob in enumerate(image_softmaxes):\n",
    "            sign_prob_dict[signnames_dict[str(idx)]] = prob\n",
    "        \n",
    "        # sorted (by prob) 43 tuples of name to prob\n",
    "        sign_prob_dict_list = sorted(sign_prob_dict.items(), key=lambda x:x[1])\n",
    "        \n",
    "        # top five name prob tuples for this image\n",
    "        top_five_name_prob_tuples = []\n",
    "        for sign,prob in sign_prob_dict_list[-1:-6:-1]:\n",
    "            #top 5 name to prob tuples\n",
    "            top_five_name_prob_tuples.append((sign, prob))\n",
    "        five_name_prob_tuples_list.append(top_five_name_prob_tuples)   \n",
    "    \n",
    "    \n",
    "    table_data = Texttable()\n",
    "    table_rows = [['Actual value', 'Predicted value', 'Other labels\\' probability']]\n",
    "    #table_data = PrettyTable(['Actual value', 'Predicted value', 'Other labels\\' probability'])    \n",
    "    #print('Actual values | Predicted value | Competing labels prob'),\n",
    "    for y1, y2, fnpts in zip(y_my_test, predictions, five_name_prob_tuples_list):\n",
    "        table_rows.append([signnames_dict[str(y1)], signnames_dict[str(y2)], str([str(tup[0] + \": \" + str(tup[1])) for tup in fnpts])])\n",
    "#         for fnpts_item in fnpts[1:]:\n",
    "#             table_rows.append(['', '', str(fnpts_item[0])[:14] + \": \" + str(fnpts_item[1])[:6]])\n",
    "        #print(signnames_dict[str(y1)] + \" | \" + signnames_dict[str(y2)] + \" | \" + str(fnpts))\n",
    "    table_data.add_rows(table_rows)\n",
    "    print (table_data.draw())\n",
    "    #print(table_data)\n",
    "\n",
    "        \n",
    "#     >>> from texttable import Texttable\n",
    "# >>> t = Texttable()\n",
    "# >>> t.add_rows([['Name', 'Age'], ['Alice', 24], ['Bob', 19]])\n",
    "# >>> print t.draw()\n",
    "        \n",
    "    #top_five_softmax = \n",
    "    "
   ]
  },
  {
   "cell_type": "code",
   "execution_count": null,
   "metadata": {
    "collapsed": true
   },
   "outputs": [],
   "source": []
  }
 ],
 "metadata": {
  "anaconda-cloud": {},
  "kernelspec": {
   "display_name": "Python 3",
   "language": "python",
   "name": "python3"
  },
  "language_info": {
   "codemirror_mode": {
    "name": "ipython",
    "version": 3
   },
   "file_extension": ".py",
   "mimetype": "text/x-python",
   "name": "python",
   "nbconvert_exporter": "python",
   "pygments_lexer": "ipython3",
   "version": "3.6.0a4"
  },
  "widgets": {
   "state": {},
   "version": "1.1.2"
  }
 },
 "nbformat": 4,
 "nbformat_minor": 1
}
