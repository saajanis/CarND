{
 "cells": [
  {
   "cell_type": "markdown",
   "metadata": {},
   "source": [
    "# Data prep"
   ]
  },
  {
   "cell_type": "code",
   "execution_count": null,
   "metadata": {
    "scrolled": true
   },
   "outputs": [
    {
     "name": "stdout",
     "output_type": "stream",
     "text": [
      "Number of training examples = 34799\n",
      "Number of testing examples = 12630\n",
      "Image data shape = (32, 32, 3)\n",
      "Number of classes = 43\n",
      "# Original_data\n",
      "# Original_normalized_data\n",
      "82.6776\n",
      "# Cropped_normalized_data\n",
      "48.38\n",
      "1.14006e-08\n",
      "# Cropped_grayscale_data\n",
      "# Cropped_grayscaled_normalized_data\n",
      "47.6308\n",
      "Done with data prep!\n"
     ]
    }
   ],
   "source": [
    "import matplotlib.pyplot as plt\n",
    "# Load pickled data\n",
    "import pickle\n",
    "import numpy as np\n",
    "from functools import partial\n",
    "\n",
    "# TODO: Fill this in based on where you saved the training and testing data\n",
    "\n",
    "DATA_DIR = \"./data/\"\n",
    "\n",
    "training_file = DATA_DIR + \"traffic-signs-data/train.p\"\n",
    "validation_file = DATA_DIR + \"traffic-signs-data/valid.p\"\n",
    "testing_file = DATA_DIR + \"traffic-signs-data/test.p\"\n",
    "\n",
    "with open(training_file, mode='rb') as f:\n",
    "    train = pickle.load(f)\n",
    "with open(validation_file, mode='rb') as f:\n",
    "    valid = pickle.load(f)\n",
    "with open(testing_file, mode='rb') as f:\n",
    "    test = pickle.load(f)\n",
    "    \n",
    "X_train, X_train_coords, X_train_sizes, y_train = np.asarray(train['features'], dtype=np.float32), train['coords'], train['sizes'], train['labels']\n",
    "X_valid, X_valid_coords,X_valid_sizes, y_valid = np.asarray(valid['features'], dtype=np.float32), valid['coords'], valid['sizes'], valid['labels']\n",
    "X_test, X_test_coords, X_test_sizes, y_test = np.asarray(test['features'], dtype=np.float32), test['coords'], test['sizes'], test['labels']\n",
    "\n",
    "#################\n",
    "\n",
    "### Replace each question mark with the appropriate value. \n",
    "### Use python, pandas or numpy methods rather than hard coding the results\n",
    "\n",
    "# TODO: Number of training examples\n",
    "n_train = X_train.shape[0]\n",
    "\n",
    "# TODO: Number of validation examples\n",
    "n_validation = X_valid.shape[0]\n",
    "\n",
    "# TODO: Number of testing examples.\n",
    "n_test = X_test.shape[0]\n",
    "\n",
    "# TODO: What's the shape of an traffic sign image?\n",
    "image_shape = X_train.shape[1:]\n",
    "\n",
    "# TODO: How many unique classes/labels there are in the dataset.\n",
    "n_classes = len(np.unique(y_train))\n",
    "\n",
    "print(\"Number of training examples =\", n_train)\n",
    "print(\"Number of testing examples =\", n_test)\n",
    "print(\"Image data shape =\", image_shape)\n",
    "print(\"Number of classes =\", n_classes)\n",
    "\n",
    "##################\n",
    "\n",
    "\n",
    "### Data exploration visualization code goes here.\n",
    "### Feel free to use as many code cells as needed.\n",
    "# Visualizations will be shown in the notebook.\n",
    "#TODO(saajan): uncomment line below and plot and do more visualization\n",
    "# %matplotlib inline\n",
    " \n",
    "# plt.hist(y_train, alpha=0.5, label='training_labels', bins=43)\n",
    "# plt.hist(y_valid, alpha=0.5, label='validation_labels', bins=43)\n",
    "# plt.hist(y_test, alpha=0.5, label='test_labels', bins=43)\n",
    "# plt.legend(loc='upper right')\n",
    "# plt.show()\n",
    "\n",
    "###################\n",
    "import random\n",
    "\n",
    "def show_sample_images(Xs, count):\n",
    "    fig = plt.figure()\n",
    "    for i in range(count):\n",
    "        index = random.randint(0, len(Xs)-1)\n",
    "        image = Xs[index].squeeze()\n",
    "        ax1 = fig.add_subplot(1,count,i+1)\n",
    "        ax1.imshow(image)\n",
    "        #ax1.imshow(image, cmap=\"gray\")\n",
    "        \n",
    "        #plt.imshow(image, cmap=\"gray\")\n",
    "        #plt.imshow(image)\n",
    "           \n",
    "# show_sample_images(X_train, 10)\n",
    "\n",
    "### Preprocess the data here. It is required to normalize the data. Other preprocessing steps could include \n",
    "### converting to grayscale, etc.\n",
    "### Feel free to use as many code cells as needed.    \n",
    "\n",
    "def saveAndRetrievePickle(transformFunc, featuresDict, mode, pickleFileName):\n",
    "    if mode == 'saveAndRetrieve':\n",
    "        X_train_features = np.array([transformFunc(X_train_image) for X_train_image in featuresDict['X_train']])\n",
    "        X_valid_features = np.array([transformFunc(X_valid_image) for X_valid_image in featuresDict['X_valid']])\n",
    "        X_test_features = np.array([transformFunc(X_test_image) for X_test_image in featuresDict['X_test']])\n",
    "             \n",
    "        new_features_dict = {'X_train': X_train_features, 'y_train': y_train, 'X_valid': X_valid_features,\\\n",
    "                            'y_valid': y_valid, 'X_test': X_test_features, 'y_test': y_test}\n",
    "    \n",
    "        with open(DATA_DIR + pickleFileName + '.pickle', 'wb') as handle:\n",
    "            pickle.dump(new_features_dict, handle, protocol=pickle.HIGHEST_PROTOCOL)\n",
    "      \n",
    "    if mode == 'saveAndRetrieve' or mode == 'retrieve':\n",
    "        with open(DATA_DIR + pickleFileName + '.pickle', 'rb') as handle:\n",
    "            new_features_dict = pickle.load(handle)\n",
    "    \n",
    "    return new_features_dict\n",
    "            \n",
    "   \n",
    "# Original_data\n",
    "def noop_image(image):\n",
    "    return np.asarray(image, dtype=np.float32) \n",
    "\n",
    "print(\"# Original_data\")\n",
    "original_data = {'X_train': X_train, 'y_train': y_train, 'X_valid': X_valid, 'y_valid': y_valid, 'X_test': X_test, 'y_test': y_test}\n",
    "# original_data = saveAndRetrievePickle(noop_image, original_data, 'saveAndRetrieve', 'original_data')\n",
    "original_data = saveAndRetrievePickle(noop_image, original_data, 'retrieve', 'original_data') \n",
    "\n",
    "\n",
    "# Create cropped data\n",
    "#TODO(saajan): Reconsider zeroing out irrelevant area over resizing cropped image\n",
    "def extract_bounds_and_rescale(image, coord, size):\n",
    "    transformed_x = 32\n",
    "    transformed_y = 32\n",
    "    original_x = size[0]\n",
    "    original_y = size[1]\n",
    "      \n",
    "    x_multiplier = float(transformed_x)/float(original_x)\n",
    "    y_multiplier = float(transformed_y)/float(original_y)\n",
    "      \n",
    "    transformed_coord = (coord[0]* x_multiplier, coord[1] * y_multiplier, coord[2] * x_multiplier, coord[3] * y_multiplier)\n",
    "    transformed_coord = [int(np.rint(val)) for val in transformed_coord]\n",
    "      \n",
    "    ret_image = image.copy()\n",
    "    shape = image.shape\n",
    "     \n",
    "    ret_image[0:transformed_coord[0],:] = (0,0,0)\n",
    "    ret_image[:,0:transformed_coord[1]] = (0,0,0)\n",
    "    ret_image[transformed_coord[2]:shape[1],:] = (0,0,0)\n",
    "    ret_image[:,transformed_coord[3]:shape[0]] = (0,0,0)\n",
    "    #show_sample_images([ret_image], 1)\n",
    "    return np.asarray(ret_image, dtype=np.float32)\n",
    "\n",
    "\n",
    "# # extract_bounds_and_rescale Xs\n",
    "# X_train = np.array([extract_bounds_and_rescale(image, coord, size) for (image, coord, size) in zip(X_train, X_train_coords, X_train_sizes)])\n",
    "# X_valid = np.array([extract_bounds_and_rescale(image, coord, size) for (image, coord, size) in zip(X_valid, X_valid_coords,X_valid_sizes)])\n",
    "# X_test = np.array([extract_bounds_and_rescale(image, coord, size) for (image, coord, size) in zip(X_test, X_test_coords, X_test_sizes)])\n",
    "  \n",
    "# print(\"# Cropped_data\")\n",
    "# cropped_data = {'X_train': X_train, 'y_train': y_train, 'X_valid': X_valid, 'y_valid': y_valid, 'X_test': X_test, 'y_test': y_test}\n",
    "# with open(DATA_DIR + 'cropped_data.pickle', 'wb') as cropped_data_handle:\n",
    "#     pickle.dump(cropped_data, cropped_data_handle, protocol=pickle.HIGHEST_PROTOCOL)\n",
    "  \n",
    "with open(DATA_DIR + 'cropped_data.pickle', 'rb') as cropped_data_handle:\n",
    "    cropped_data = pickle.load(cropped_data_handle)\n",
    "     \n",
    "# show_sample_images(cropped_data['X_train'], 10)\n",
    "\n",
    "\n",
    "# normalize Xs\n",
    "def normalize(image, mean_pixel):\n",
    "    result = (np.asarray(image, dtype=np.float32) - mean_pixel) / mean_pixel\n",
    "    #normalizer_func = np.vectorize(lambda val: (float(val)-float(mean_pixel))/float(mean_pixel))\n",
    "    return np.asarray(result, dtype=np.float32)\n",
    "\n",
    "print(\"# Original_normalized_data\")\n",
    "print(np.mean([np.mean(image) for image in original_data['X_train']]))\n",
    "# original_normalized_data = saveAndRetrievePickle(partial(normalize, mean_pixel=np.mean([np.mean(image) for image in original_data['X_train']])), original_data, 'saveAndRetrieve', 'original_normalized_data')\n",
    "original_normalized_data = saveAndRetrievePickle(partial(normalize, mean_pixel=np.mean([np.mean(image) for image in original_data['X_train']])), original_data, 'retrieve', 'original_normalized_data')\n",
    "\n",
    "print(\"# Cropped_normalized_data\")\n",
    "print(np.mean([np.mean(image) for image in cropped_data['X_train']]))\n",
    "# cropped_normalized_data = saveAndRetrievePickle(partial(normalize, mean_pixel=np.mean([np.mean(image) for image in cropped_data['X_train']])), cropped_data, 'saveAndRetrieve', 'cropped_normalized_data')\n",
    "cropped_normalized_data = saveAndRetrievePickle(partial(normalize, mean_pixel=np.mean([np.mean(image) for image in cropped_data['X_train']])), cropped_data, 'retrieve', 'cropped_normalized_data')\n",
    "   \n",
    "# Experiments\n",
    "vals = []\n",
    "for image in cropped_normalized_data['X_train']:\n",
    "    vals.append((np.mean(image)))\n",
    "print(np.mean(vals))    \n",
    "\n",
    "\n",
    "import cv2\n",
    "# convert_to_grayscale Xs\n",
    "def convert_to_grayscale(image):\n",
    "    return np.asarray(cv2.cvtColor(image, cv2.COLOR_RGB2GRAY), dtype=np.float32).reshape((32, 32, 1))\n",
    "    \n",
    "print(\"# Cropped_grayscale_data\")\n",
    "# cropped_grayscale_data = saveAndRetrievePickle(convert_to_grayscale, cropped_data, 'saveAndRetrieve', 'cropped_grayscale_data')\n",
    "cropped_grayscale_data = saveAndRetrievePickle(convert_to_grayscale, cropped_data, 'retrieve', 'cropped_grayscale_data') \n",
    "\n",
    "print(\"# Cropped_grayscaled_normalized_data\")\n",
    "print(np.mean([np.mean(image) for image in cropped_grayscale_data['X_train']]))\n",
    "# cropped_grayscaled_normalized_data = saveAndRetrievePickle(partial(normalize, mean_pixel=np.mean([np.mean(image) for image in cropped_grayscale_data['X_train']])), cropped_grayscale_data, 'saveAndRetrieve', 'cropped_grayscaled_normalized_data')\n",
    "cropped_grayscaled_normalized_data = saveAndRetrievePickle(partial(normalize, mean_pixel=np.mean([np.mean(image) for image in cropped_grayscale_data['X_train']])), cropped_grayscale_data, 'retrieve', 'cropped_grayscaled_normalized_data') \n",
    "\n",
    "#Naming\n",
    "original_data['name'] = 'original_data'\n",
    "original_normalized_data['name'] = 'original_normalized_data'\n",
    "cropped_data['name'] = 'cropped_data'\n",
    "cropped_normalized_data['name'] = 'cropped_normalized_data'\n",
    "cropped_grayscaled_normalized_data['name'] = 'cropped_grayscaled_normalized_data'\n",
    "#all_data = [original_data, original_normalized_data, cropped_data, cropped_normalized_data, cropped_grayscale_data, cropped_grayscaled_normalized_data] \n",
    "all_data = [original_normalized_data, cropped_grayscale_data] \n",
    "\n",
    "print('Done with data prep!')"
   ]
  },
  {
   "cell_type": "code",
   "execution_count": null,
   "metadata": {
    "scrolled": true
   },
   "outputs": [
    {
     "name": "stdout",
     "output_type": "stream",
     "text": [
      "Stored 'current_data_dict' (dict)\n",
      "\n",
      "Image Shape: (32, 32, 3)\n",
      "\n",
      "Training Set:   34799 samples\n",
      "Validation Set: 4410 samples\n",
      "Test Set:       12630 samples\n",
      "(32, 32, 3)\n"
     ]
    },
    {
     "name": "stderr",
     "output_type": "stream",
     "text": [
      "\r",
      "Epoch:   0%|          | 0/500 [00:00<?, ?epochs/s]"
     ]
    },
    {
     "name": "stdout",
     "output_type": "stream",
     "text": [
      "Training...\n",
      "\n"
     ]
    },
    {
     "name": "stderr",
     "output_type": "stream",
     "text": [
      "Epoch: 100%|██████████| 500/500 [32:18<00:00,  3.86s/epochs]\n"
     ]
    },
    {
     "data": {
      "image/png": "[encoded data removed]",
      "text/plain": [
       "<matplotlib.figure.Figure at 0x7fd5eb099390>"
      ]
     },
     "metadata": {},
     "output_type": "display_data"
    },
    {
     "name": "stdout",
     "output_type": "stream",
     "text": [
      "Training accuracies: \n",
      "[0.79439064361311973, 0.92476795323912675, 0.9550849162846099, 0.97301646600753033, 0.97304520248260273, 0.97847639299979883, 0.98212592321009629, 0.99183884596097727, 0.98853415329739491, 0.99364924281146139, 0.994511336532659, 0.99597689588781291, 0.99643667921491996, 0.99683898962613871, 0.98971234805597863, 0.99468375528032416, 0.99821833960745998, 0.99103422513853978, 0.99669530733641776, 0.99474122821334077, 0.99600563236288531, 0.99623552400931059, 0.99606310526164543, 0.99715509066352481, 0.99741371878502261, 0.99617805109342228, 0.9973849823270784, 0.9988218052242881, 0.99715509066352481, 0.99606310526164543, 0.99839075835512514, 0.99574700424138762, 0.99910916980372999, 0.99919537917756263, 0.9977010833644645, 0.99735624586913418, 0.99793097502801809, 0.99991379062616736, 0.99991379062616736, 0.99985631771027905, 0.99591942297192448, 0.99709761774763639, 0.99603436880370122, 0.99540216672892901, 0.99873559585045546, 0.99807465731773903, 0.99870685939251125, 0.99879306876634388, 0.99890801459812062, 0.99896548751400904, 0.99752866461679934, 0.99419523549527289, 0.99813213023362746, 0.99931032500933936, 0.99692519899997123, 0.9988218052242881, 0.99928158855139515, 0.99729877295324576, 0.99841949481306935, 0.9982758125233484, 0.99879306876634388, 0.99709761776476469, 0.99158021782235117, 0.99841949481306935, 0.99887927814017641, 0.99873559585045546, 0.99931032500933936, 0.99988505416822326, 0.99468375529745245, 0.99887927814017641, 0.99956895313083705, 1.0, 1.0, 1.0, 1.0, 1.0, 1.0, 1.0, 1.0, 1.0, 1.0, 1.0, 1.0, 1.0, 1.0, 1.0, 1.0, 1.0, 1.0, 1.0, 1.0, 1.0, 1.0, 1.0, 1.0, 1.0, 1.0, 1.0, 1.0, 1.0, 1.0, 1.0, 1.0, 1.0, 1.0, 1.0, 1.0, 1.0, 1.0, 1.0, 1.0, 1.0, 1.0, 1.0, 1.0, 1.0, 1.0, 1.0, 1.0, 1.0, 1.0, 1.0, 1.0, 1.0, 1.0, 1.0, 1.0, 1.0, 1.0, 1.0, 1.0, 0.99356303342050056, 0.99778729273829703, 0.99954021667289294, 0.99959768958878126, 1.0, 0.99997126354205579, 1.0, 1.0, 1.0, 1.0, 1.0, 1.0, 1.0, 1.0, 1.0, 1.0, 1.0, 1.0, 1.0, 1.0, 1.0, 1.0, 1.0, 1.0, 1.0, 1.0, 1.0, 1.0, 1.0, 1.0, 1.0, 1.0, 1.0, 1.0, 1.0, 1.0, 1.0, 1.0, 1.0, 1.0, 1.0, 1.0, 1.0, 1.0, 1.0, 1.0, 1.0, 1.0, 1.0, 1.0, 1.0, 1.0, 1.0, 1.0, 1.0, 1.0, 1.0, 1.0, 1.0, 1.0, 1.0, 1.0, 1.0, 1.0, 1.0, 1.0, 1.0, 1.0, 0.96361964425977886, 0.99410902612144025, 0.99879306876634388, 0.99939653438317189, 0.99991379062616736, 0.99928158855139515, 0.99818960314951577, 0.99658036150464091, 0.99933906146728357, 0.9973849823270784, 0.99862065001867872, 0.99864938647662294, 0.99836202189718093, 0.99956895313083705, 1.0, 0.99997126354205579, 1.0, 1.0, 1.0, 1.0, 1.0, 1.0, 1.0, 1.0, 1.0, 1.0, 1.0, 1.0, 1.0, 1.0, 1.0, 1.0, 1.0, 1.0, 1.0, 1.0, 1.0, 1.0, 1.0, 1.0, 1.0, 1.0, 1.0, 1.0, 1.0, 1.0, 1.0, 1.0, 1.0, 1.0, 1.0, 1.0, 1.0, 1.0, 1.0, 1.0, 1.0, 1.0, 1.0, 1.0, 1.0, 1.0, 1.0, 1.0, 1.0, 1.0, 1.0, 1.0, 1.0, 1.0, 1.0, 1.0, 1.0, 1.0, 1.0, 1.0, 1.0, 1.0, 1.0, 1.0, 1.0, 1.0, 1.0, 1.0, 1.0, 1.0, 1.0, 1.0, 1.0, 1.0, 1.0, 1.0, 1.0, 1.0, 1.0, 1.0, 1.0, 1.0, 1.0, 1.0, 1.0, 1.0, 1.0, 1.0, 1.0, 0.99261473032547043, 0.99836202189718093, 0.99948274375700452, 0.99873559585045546, 0.99954021667289294, 0.99919537917756263, 0.9988505416822322, 0.99951148021494873, 0.99959768958878126, 0.99807465731773903, 0.99979884479439063, 0.99729877295324576, 0.99853444066197439, 0.99887927814017641, 0.99985631771027905, 0.99997126354205579, 0.99997126354205579, 1.0, 1.0, 1.0, 1.0, 1.0, 1.0, 1.0, 1.0, 1.0, 1.0, 1.0, 1.0, 1.0, 1.0, 1.0, 1.0, 1.0, 1.0, 1.0, 1.0, 1.0, 1.0, 1.0, 1.0, 1.0, 1.0, 1.0, 1.0, 1.0, 1.0, 1.0, 1.0, 1.0, 1.0, 1.0, 1.0, 1.0, 1.0, 1.0, 1.0, 1.0, 1.0, 1.0, 1.0, 1.0, 1.0, 1.0, 1.0, 1.0, 1.0, 1.0, 1.0, 1.0, 1.0, 1.0, 1.0, 1.0, 1.0, 1.0, 1.0, 1.0, 1.0, 1.0, 1.0, 1.0, 1.0, 1.0, 1.0, 1.0, 1.0, 1.0, 1.0, 1.0, 1.0, 1.0, 1.0, 1.0, 1.0, 1.0, 1.0, 1.0, 1.0, 1.0, 1.0, 1.0, 1.0, 1.0, 1.0, 1.0, 1.0, 1.0, 1.0, 1.0, 1.0, 0.99623552400931059, 0.99836202189718093, 0.99931032500933936, 0.99988505416822326, 0.99968389896261389, 1.0, 1.0, 1.0, 1.0, 1.0, 1.0, 1.0, 1.0, 1.0, 1.0, 1.0, 1.0, 1.0, 1.0, 1.0, 1.0, 1.0, 1.0, 1.0, 1.0, 1.0, 1.0, 1.0, 1.0, 1.0, 1.0, 1.0, 1.0, 1.0, 1.0, 1.0, 1.0, 1.0, 1.0, 1.0, 1.0, 1.0, 1.0, 1.0, 1.0, 1.0, 1.0, 1.0, 1.0, 1.0, 1.0, 1.0, 1.0, 1.0, 1.0, 1.0, 1.0, 1.0, 1.0, 1.0, 1.0, 1.0, 1.0, 1.0, 1.0, 1.0, 1.0, 1.0, 1.0, 1.0, 1.0, 1.0, 1.0, 1.0, 1.0, 1.0, 1.0, 1.0, 1.0, 1.0, 1.0, 1.0, 1.0, 1.0, 1.0]\n",
      "Validation accuracies: \n",
      "[0.69886621298973794, 0.82131519201391134, 0.84489795899445241, 0.86712018118964296, 0.85986394465915739, 0.87505668936943526, 0.88367346941478664, 0.89206349157692355, 0.90340136059828091, 0.89160997740535775, 0.88956916002459541, 0.90158730112776464, 0.90453514744635344, 0.91791383171297791, 0.8979591834842483, 0.90204081589402529, 0.90770975037767232, 0.89160997710801038, 0.91746031751438062, 0.89659863948281393, 0.91201814085988497, 0.89909297057560511, 0.90680272116953009, 0.91383219941132732, 0.92358276627771974, 0.92766439884968621, 0.92993197230254709, 0.92494331068462798, 0.90476190478893637, 0.91269841272544427, 0.92698412676787434, 0.91632652963910788, 0.92358276622365665, 0.92154195043775766, 0.91496598569173659, 0.91133786802118866, 0.92018140594975473, 0.93424036283882295, 0.93492063467735065, 0.93469387730773612, 0.924489795161483, 0.92222222197893799, 0.91428571455603014, 0.91768707458664767, 0.93151927464673312, 0.93854875310478292, 0.93287981886442017, 0.93242630361159107, 0.93718820864381158, 0.93151927413313296, 0.91519274352088809, 0.91428571404242998, 0.93582766466940881, 0.94036281154809898, 0.92857142832814432, 0.93900226733041192, 0.93741496601342611, 0.92244897910526824, 0.93718820785989565, 0.91950113384091126, 0.92290249438512895, 0.92471655253109752, 0.92539682539682544, 0.93287981837785161, 0.9287981862113589, 0.92721088386717299, 0.93446711993812159, 0.94217687101861514, 0.91836734693877553, 0.92698412698412702, 0.93582766415580876, 0.94308390049707325, 0.94285714261385856, 0.94353741523630219, 0.94308390049707325, 0.94353741523630219, 0.94217687101861514, 0.94217687101861514, 0.94217687101861514, 0.94195011364900061, 0.94195011364900061, 0.94331065786668777, 0.94240362838822966, 0.94217687101861514, 0.94263038575784419, 0.94353741523630219, 0.94263038575784419, 0.94195011364900061, 0.94263038575784419, 0.94308390049707325, 0.94195011364900061, 0.94263038575784419, 0.94308390049707325, 0.94263038575784419, 0.94285714312745872, 0.94263038575784419, 0.94376417260591672, 0.94240362787462961, 0.94263038524424403, 0.94353741472270214, 0.94376417209231667, 0.94376417209231667, 0.94308389998347308, 0.94376417209231667, 0.94421768683154572, 0.94399092946193119, 0.94263038524424403, 0.94331065735308761, 0.94376417209231667, 0.94421768683154572, 0.94331065735308761, 0.94285714261385856, 0.94421768683154572, 0.94308389998347308, 0.94421768683154572, 0.94376417209231667, 0.94444444420116014, 0.94353741472270214, 0.94399092946193119, 0.94421768683154572, 0.94421768683154572, 0.94421768683154572, 0.94444444420116014, 0.94421768683154572, 0.94399092946193119, 0.94512471631000372, 0.94444444420116014, 0.94467120157077467, 0.94421768683154572, 0.94489795894038919, 0.94557823104923278, 0.92766439912000209, 0.93560090705651, 0.94308390049707325, 0.93696145049028112, 0.94308389998347308, 0.94217687050501508, 0.94625850315807625, 0.94625850315807625, 0.94512471631000372, 0.94467120157077467, 0.94376417209231667, 0.94421768734514577, 0.94376417260591672, 0.94399092997553125, 0.94353741523630219, 0.94353741523630219, 0.94376417260591672, 0.94285714312745872, 0.94285714312745872, 0.94126984154015714, 0.94172335627938619, 0.94172335627938619, 0.94195011364900061, 0.94195011364900061, 0.94217687101861514, 0.94240362838822966, 0.94217687101861514, 0.94195011364900061, 0.94217687101861514, 0.94240362838822966, 0.94217687101861514, 0.94172335627938619, 0.94240362838822966, 0.94172335627938619, 0.94149659890977166, 0.94149659890977166, 0.94195011364900061, 0.94172335627938619, 0.94172335627938619, 0.94172335627938619, 0.94172335627938619, 0.94195011364900061, 0.94149659890977166, 0.94149659890977166, 0.94217687101861514, 0.94172335627938619, 0.94126984154015714, 0.94172335627938619, 0.94126984154015714, 0.94172335627938619, 0.94126984154015714, 0.94104308417054261, 0.94172335627938619, 0.93990929732247008, 0.94081632680092808, 0.94104308417054261, 0.94126984154015714, 0.93990929732247008, 0.94104308417054261, 0.93990929732247008, 0.94104308417054261, 0.94104308417054261, 0.94058956943131355, 0.94081632680092808, 0.94058956943131355, 0.94058956943131355, 0.94013605469208461, 0.94149659890977166, 0.86780045302817066, 0.93469387730773612, 0.93537414968689558, 0.93922902470002634, 0.94263038551455991, 0.93560090705651, 0.93560090678619423, 0.93424036313617043, 0.94104308392725833, 0.93287981810753573, 0.93922902445674217, 0.94285714182994262, 0.93356008994606343, 0.94489795842678914, 0.94920634947666505, 0.95238095265126821, 0.9496598642158941, 0.95102040843358115, 0.95124716580319568, 0.95192743791203915, 0.95170068054242474, 0.95215419528165368, 0.95260771002088274, 0.95260771002088274, 0.95260771002088274, 0.95238095265126821, 0.95215419528165368, 0.95283446739049726, 0.95260771002088274, 0.95283446739049726, 0.95260771002088274, 0.95260771002088274, 0.95283446739049726, 0.95328798212972632, 0.95306122476011179, 0.95328798212972632, 0.95328798212972632, 0.95374149686895526, 0.95396825423856979, 0.95374149686895526, 0.95419501160818432, 0.95396825423856979, 0.95396825423856979, 0.95396825423856979, 0.95351473949934085, 0.95374149686895526, 0.95374149686895526, 0.95396825423856979, 0.95396825423856979, 0.95374149686895526, 0.95328798212972632, 0.95328798212972632, 0.95351473949934085, 0.95351473949934085, 0.95306122476011179, 0.95306122476011179, 0.95260771002088274, 0.95283446739049726, 0.95283446739049726, 0.95328798212972632, 0.95283446739049726, 0.95306122476011179, 0.95260771002088274, 0.95283446739049726, 0.95238095265126821, 0.95215419528165368, 0.95238095265126821, 0.95215419528165368, 0.95215419528165368, 0.95170068054242474, 0.95147392317281021, 0.95147392317281021, 0.95170068054242474, 0.95147392317281021, 0.95124716580319568, 0.95079365106396663, 0.95102040843358115, 0.95124716580319568, 0.95124716580319568, 0.95124716580319568, 0.9505668936943521, 0.95079365106396663, 0.95102040843358115, 0.95102040843358115, 0.95079365106396663, 0.95102040843358115, 0.95079365106396663, 0.95034013632473757, 0.95079365106396663, 0.9505668936943521, 0.95079365106396663, 0.95011337895512316, 0.9505668936943521, 0.95079365106396663, 0.9505668936943521, 0.95034013632473757, 0.9505668936943521, 0.9496598642158941, 0.95102040843358115, 0.9505668936943521, 0.95034013632473757, 0.9496598642158941, 0.94943310684627957, 0.95034013632473757, 0.94943310684627957, 0.90680272135875117, 0.93809523836555397, 0.93809523836555397, 0.94058956943131355, 0.94036281206169903, 0.93514739256056523, 0.92993197254583138, 0.93741496625671039, 0.94285714312745872, 0.93514739231728106, 0.94648526104129094, 0.92675736937122821, 0.93446712045172176, 0.93560090729979428, 0.94603174578846172, 0.94512471631000372, 0.94625850367167641, 0.94603174630206188, 0.94557823156283283, 0.94580498893244735, 0.94603174630206188, 0.94625850367167641, 0.94580498893244735, 0.94603174630206188, 0.94603174630206188, 0.94603174630206188, 0.94580498893244735, 0.94580498893244735, 0.94603174630206188, 0.94603174630206188, 0.94603174630206188, 0.94603174630206188, 0.94625850367167641, 0.94625850367167641, 0.94603174630206188, 0.94648526104129094, 0.94648526104129094, 0.94671201841090546, 0.94716553315013441, 0.94716553315013441, 0.94761904788936346, 0.94739229051974894, 0.94784580525897799, 0.94807256262859252, 0.94829931999820705, 0.94852607736782146, 0.94897959210705052, 0.94897959210705052, 0.94920634947666505, 0.94943310684627957, 0.94943310684627957, 0.94943310684627957, 0.94943310684627957, 0.9496598642158941, 0.94988662158550863, 0.95011337895512316, 0.94988662158550863, 0.94988662158550863, 0.94988662158550863, 0.9496598642158941, 0.94988662158550863, 0.94988662158550863, 0.9496598642158941, 0.94988662158550863, 0.9496598642158941, 0.94920634947666505, 0.94943310684627957, 0.94965986394557822, 0.94965986394557822, 0.94988662131519275, 0.94943310657596369, 0.94965986394557822, 0.94965986394557822, 0.94943310657596369, 0.94943310657596369, 0.94965986394557822, 0.95011337868480727, 0.9503401360544218, 0.95011337868480727, 0.9503401360544218, 0.9503401360544218, 0.9503401360544218, 0.95011337868480727, 0.95011337868480727, 0.9503401360544218, 0.95011337868480727, 0.9503401360544218, 0.95011337868480727, 0.9503401360544218, 0.95011337868480727, 0.95011337868480727, 0.95056689342403633, 0.9503401360544218, 0.95011337868480727, 0.9503401360544218, 0.95056689342403633, 0.95102040816326527, 0.9512471655328798, 0.95102040816326527, 0.95079365079365075, 0.9503401360544218, 0.95011337868480727, 0.9503401360544218, 0.95011337868480727, 0.95056689342403633, 0.9503401360544218, 0.95056689342403633, 0.95170068027210886, 0.9512471655328798, 0.95102040816326527, 0.9512471655328798, 0.93061224441139068, 0.93537414993017975, 0.93786848099593945, 0.93877550917688135, 0.93832199443765241, 0.94308390049707325, 0.94489795945398936, 0.94489795945398936, 0.94467120208437483, 0.94489795945398936, 0.94512471682360388, 0.9453514741932183, 0.94512471682360388, 0.9453514741932183, 0.9453514741932183, 0.94603174630206188, 0.94580498893244735, 0.94603174630206188, 0.94603174630206188, 0.94580498893244735, 0.94580498893244735, 0.94603174630206188, 0.94625850367167641, 0.94625850367167641, 0.94625850367167641, 0.94603174630206188, 0.94603174630206188, 0.94603174630206188, 0.94603174630206188, 0.94603174630206188, 0.94603174630206188, 0.94625850367167641, 0.94648526104129094, 0.94671201841090546, 0.94671201841090546, 0.94671201841090546, 0.94648526104129094, 0.94625850367167641, 0.94648526104129094, 0.94716553315013441, 0.94761904788936346, 0.94807256262859252, 0.94784580525897799, 0.94739229051974894, 0.94739229051974894, 0.94739229051974894, 0.94761904788936346, 0.94761904788936346, 0.94761904788936346, 0.94761904788936346, 0.94739229051974894, 0.94761904788936346, 0.94739229051974894, 0.94784580525897799, 0.94761904788936346, 0.94761904788936346, 0.94784580525897799, 0.94784580525897799, 0.94761904788936346, 0.94784580525897799, 0.94761904788936346, 0.94739229051974894, 0.94761904788936346, 0.94807256262859252, 0.94784580525897799, 0.94784580525897799, 0.94761904788936346, 0.94739229051974894, 0.94761904788936346, 0.94761904788936346, 0.94761904788936346, 0.94739229051974894, 0.94784580525897799, 0.94716553315013441, 0.94671201841090546, 0.94648526104129094, 0.94625850367167641, 0.94625850367167641, 0.94625850367167641, 0.94625850367167641, 0.94625850367167641, 0.94648526104129094, 0.94671201841090546, 0.94603174630206188, 0.94557823156283283]\n",
      "Model saved\n"
     ]
    },
    {
     "name": "stdout",
     "output_type": "stream",
     "text": [
      "Test Accuracy = 0.939\n",
      "Stored 'current_data_dict' (dict)\n",
      "\n",
      "Image Shape: (32, 32, 1)\n",
      "\n",
      "Training Set:   34799 samples\n",
      "Validation Set: 4410 samples\n",
      "Test Set:       12630 samples\n",
      "(32, 32)\n"
     ]
    },
    {
     "name": "stderr",
     "output_type": "stream",
     "text": [
      "\r",
      "Epoch:   0%|          | 0/500 [00:00<?, ?epochs/s]"
     ]
    },
    {
     "name": "stdout",
     "output_type": "stream",
     "text": [
      "Training...\n",
      "\n"
     ]
    },
    {
     "name": "stderr",
     "output_type": "stream",
     "text": [
      "Epoch:  19%|█▉        | 96/500 [04:38<19:35,  2.91s/epochs]"
     ]
    }
   ],
   "source": [
    "%%capture output\n",
    "for index, data_dict in enumerate(all_data):\n",
    "    current_data_dict = data_dict\n",
    "    current_data_dict_name = data_dict['name']\n",
    "    %store current_data_dict\n",
    "    %store current_data_dict_name\n",
    "    %run LeNet_eval.ipynb 'current_data_dict'"
   ]
  },
  {
   "cell_type": "code",
   "execution_count": null,
   "metadata": {
    "collapsed": true
   },
   "outputs": [],
   "source": [
    "output.show()"
   ]
  },
  {
   "cell_type": "code",
   "execution_count": null,
   "metadata": {
    "collapsed": true
   },
   "outputs": [],
   "source": []
  }
 ],
 "metadata": {
  "kernelspec": {
   "display_name": "Python 3",
   "language": "python",
   "name": "python3"
  },
  "language_info": {
   "codemirror_mode": {
    "name": "ipython",
    "version": 3
   },
   "file_extension": ".py",
   "mimetype": "text/x-python",
   "name": "python",
   "nbconvert_exporter": "python",
   "pygments_lexer": "ipython3",
   "version": "3.5.2"
  },
  "widgets": {
   "state": {},
   "version": "1.1.2"
  }
 },
 "nbformat": 4,
 "nbformat_minor": 2
}
